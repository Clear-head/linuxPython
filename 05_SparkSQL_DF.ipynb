{
 "cells": [
  {
   "cell_type": "code",
   "execution_count": 1,
   "id": "1c45d12b-1902-4fc2-87bc-8237ec446643",
   "metadata": {},
   "outputs": [],
   "source": [
    "from pyspark import SparkConf, SparkContext\n",
    "conf = SparkConf().setMaster(\"local\").setAppName(\"spark_sql_basic2\")\n",
    "sc   = SparkContext(conf=conf)"
   ]
  },
  {
   "cell_type": "markdown",
   "id": "6e29e999-a3a7-401a-95d3-f3d06de2da84",
   "metadata": {},
   "source": [
    "RDD 만을 이용한 데이터 추출"
   ]
  },
  {
   "cell_type": "code",
   "execution_count": 2,
   "id": "f82f095f-4ed9-4cf8-8a2d-0e21462354c4",
   "metadata": {},
   "outputs": [],
   "source": [
    "movies_rdd = sc.parallelize([\n",
    "    (1, (\"어벤져스\", \"마블\")),\n",
    "    (2, (\"슈퍼맨\", \"DC\")),\n",
    "    (3, (\"배트맨\", \"DC\")),\n",
    "    (4, (\"겨울왕국\", \"디즈니\")),\n",
    "    (5, (\"아이언맨\", \"마블\"))\n",
    "])\n",
    "\n",
    "\n",
    "attendances_rdd = sc.parallelize([\n",
    "    (1, (13934592, \"KR\")),\n",
    "    (2, (2182227,\"KR\")),\n",
    "    (3, (4226242, \"KR\")),\n",
    "    (4, (10303058, \"KR\")),\n",
    "    (5, (4300365, \"KR\"))\n",
    "])"
   ]
  },
  {
   "cell_type": "markdown",
   "id": "70d2845a-952f-4544-91dc-eaae6fe1b21a",
   "metadata": {},
   "source": [
    "# 마블 영화 중 관객 수가 500만 이상인 영화를 가져오기"
   ]
  },
  {
   "cell_type": "code",
   "execution_count": 3,
   "id": "3a47df00-48b2-468a-a994-d6ba8cc79d3d",
   "metadata": {},
   "outputs": [
    {
     "data": {
      "text/plain": [
       "[(1, (('어벤져스', '마블'), (13934592, 'KR'))),\n",
       " (2, (('슈퍼맨', 'DC'), (2182227, 'KR'))),\n",
       " (3, (('배트맨', 'DC'), (4226242, 'KR'))),\n",
       " (4, (('겨울왕국', '디즈니'), (10303058, 'KR'))),\n",
       " (5, (('아이언맨', '마블'), (4300365, 'KR')))]"
      ]
     },
     "execution_count": 3,
     "metadata": {},
     "output_type": "execute_result"
    }
   ],
   "source": [
    "movie_att = movies_rdd.join(attendances_rdd)\n",
    "movie_att = movie_att.sortBy(lambda x: x[0])\n",
    "movie_att.take(10)"
   ]
  },
  {
   "cell_type": "code",
   "execution_count": 4,
   "id": "be5ba988-cf26-48cd-8084-10c655846618",
   "metadata": {},
   "outputs": [
    {
     "data": {
      "text/plain": [
       "[(1, (('어벤져스', '마블'), (13934592, 'KR')))]"
      ]
     },
     "execution_count": 4,
     "metadata": {},
     "output_type": "execute_result"
    }
   ],
   "source": [
    "movie_att.filter(\n",
    "    lambda x: x[1][0][1] == \"마블\" and x[1][1][0] > 5000000\n",
    ").collect()"
   ]
  },
  {
   "cell_type": "code",
   "execution_count": 5,
   "id": "2f04c222-4383-4810-b7b6-a57c5481f082",
   "metadata": {},
   "outputs": [],
   "source": [
    "sc.stop()"
   ]
  },
  {
   "cell_type": "code",
   "execution_count": 6,
   "id": "f3bceae7-1b3c-4f8a-bfd5-93e7c8c1cbda",
   "metadata": {},
   "outputs": [],
   "source": [
    "from pyspark.sql import SparkSession\n",
    "spark = SparkSession.builder.master(\"local\").appName(\"spark-sql\").getOrCreate()"
   ]
  },
  {
   "cell_type": "code",
   "execution_count": 7,
   "id": "3b30e492-01ee-4f4c-b709-414af08ca218",
   "metadata": {},
   "outputs": [],
   "source": [
    "# 컬럼 추가\n",
    "movies = [\n",
    "    (1, \"어벤져스\", \"마블\", 2012, 4, 26),\n",
    "    (2, \"슈퍼맨\", \"DC\", 2013, 6, 13),\n",
    "    (3, \"배트맨\", \"DC\", 2008, 8, 6),\n",
    "    (4, \"겨울왕국\", \"디즈니\", 2014, 1, 16),\n",
    "    (5, \"아이언맨\", \"마블\", 2008, 4, 30)\n",
    "]"
   ]
  },
  {
   "cell_type": "markdown",
   "id": "c716ff16-9b81-47d3-80cd-3dc72660fa17",
   "metadata": {},
   "source": [
    "### 스키마를 알아야 한다."
   ]
  },
  {
   "cell_type": "code",
   "execution_count": 8,
   "id": "43f2327f-6681-4e04-91eb-b28dae872615",
   "metadata": {},
   "outputs": [],
   "source": [
    "movie_schema = [\"id\", \"name\", \"company\", \"year\", \"month\", \"day\"]"
   ]
  },
  {
   "cell_type": "markdown",
   "id": "bd057152-7b52-460b-bf45-f29dd4fe9eee",
   "metadata": {},
   "source": [
    "### 2. 데이터 프레임 만들기"
   ]
  },
  {
   "cell_type": "code",
   "execution_count": 9,
   "id": "d31c304c-eece-44c3-b33f-eaad5e979e98",
   "metadata": {},
   "outputs": [
    {
     "name": "stdout",
     "output_type": "stream",
     "text": [
      "+---+--------+-------+----+-----+---+\n",
      "| id|    name|company|year|month|day|\n",
      "+---+--------+-------+----+-----+---+\n",
      "|  1|어벤져스|   마블|2012|    4| 26|\n",
      "|  2|  슈퍼맨|     DC|2013|    6| 13|\n",
      "|  3|  배트맨|     DC|2008|    8|  6|\n",
      "|  4|겨울왕국| 디즈니|2014|    1| 16|\n",
      "|  5|아이언맨|   마블|2008|    4| 30|\n",
      "+---+--------+-------+----+-----+---+\n",
      "\n"
     ]
    }
   ],
   "source": [
    "df = spark.createDataFrame(data=movies, schema=movie_schema)\n",
    "\n",
    "df.show()"
   ]
  },
  {
   "cell_type": "code",
   "execution_count": 10,
   "id": "58119865-0c8b-4959-aa78-cb34f0e65ddd",
   "metadata": {},
   "outputs": [
    {
     "name": "stdout",
     "output_type": "stream",
     "text": [
      "+--------+\n",
      "|    name|\n",
      "+--------+\n",
      "|어벤져스|\n",
      "|  슈퍼맨|\n",
      "|  배트맨|\n",
      "|겨울왕국|\n",
      "|아이언맨|\n",
      "+--------+\n",
      "\n"
     ]
    }
   ],
   "source": [
    "df.select(\"name\").show()"
   ]
  },
  {
   "cell_type": "code",
   "execution_count": 11,
   "id": "885cc518-13e8-494e-bc84-c333fb70be95",
   "metadata": {},
   "outputs": [
    {
     "name": "stdout",
     "output_type": "stream",
     "text": [
      "+---+--------+-------+----+-----+---+\n",
      "| id|    name|company|year|month|day|\n",
      "+---+--------+-------+----+-----+---+\n",
      "|  1|어벤져스|   마블|2012|    4| 26|\n",
      "|  2|  슈퍼맨|     DC|2013|    6| 13|\n",
      "|  4|겨울왕국| 디즈니|2014|    1| 16|\n",
      "+---+--------+-------+----+-----+---+\n",
      "\n"
     ]
    }
   ],
   "source": [
    "df.filter(df.year >= 2010).show()"
   ]
  },
  {
   "cell_type": "code",
   "execution_count": 12,
   "id": "84bbe717-7ad1-4019-83e2-8dd958b9d659",
   "metadata": {},
   "outputs": [
    {
     "name": "stdout",
     "output_type": "stream",
     "text": [
      "+---+--------+-------+----+-----+---+\n",
      "| id|    name|company|year|month|day|\n",
      "+---+--------+-------+----+-----+---+\n",
      "|  4|겨울왕국| 디즈니|2014|    1| 16|\n",
      "+---+--------+-------+----+-----+---+\n",
      "\n"
     ]
    }
   ],
   "source": [
    "# 2013 이후 영화\n",
    "df.filter(df.year > 2013).show()"
   ]
  },
  {
   "cell_type": "code",
   "execution_count": 13,
   "id": "f5fad8ef-d38f-47cc-a80c-20cefa8587fb",
   "metadata": {},
   "outputs": [
    {
     "name": "stdout",
     "output_type": "stream",
     "text": [
      "+---+--------+-------+----+-----+---+\n",
      "| id|    name|company|year|month|day|\n",
      "+---+--------+-------+----+-----+---+\n",
      "|  1|어벤져스|   마블|2012|    4| 26|\n",
      "|  2|  슈퍼맨|     DC|2013|    6| 13|\n",
      "|  3|  배트맨|     DC|2008|    8|  6|\n",
      "|  5|아이언맨|   마블|2008|    4| 30|\n",
      "+---+--------+-------+----+-----+---+\n",
      "\n"
     ]
    }
   ],
   "source": [
    "# 마블 or DC\n",
    "df.filter((df.company == \"마블\") | (df.company == \"DC\")).show()"
   ]
  },
  {
   "cell_type": "code",
   "execution_count": 14,
   "id": "e047b29f-bcfb-48f2-9b6e-b8cc3c6d1a95",
   "metadata": {},
   "outputs": [],
   "source": [
    "df.createOrReplaceTempView(\"movies\")"
   ]
  },
  {
   "cell_type": "markdown",
   "id": "2545277b-7f0f-416a-9338-c070facdcd32",
   "metadata": {},
   "source": [
    "### 영화 이름만 가져오기"
   ]
  },
  {
   "cell_type": "code",
   "execution_count": 15,
   "id": "cc5bb494-563f-4452-a777-c90c88b8ce13",
   "metadata": {},
   "outputs": [
    {
     "name": "stdout",
     "output_type": "stream",
     "text": [
      "+--------+\n",
      "|    name|\n",
      "+--------+\n",
      "|어벤져스|\n",
      "|  슈퍼맨|\n",
      "|  배트맨|\n",
      "|겨울왕국|\n",
      "|아이언맨|\n",
      "+--------+\n",
      "\n"
     ]
    }
   ],
   "source": [
    "query = \"\"\"\n",
    "\n",
    "SELECT name\n",
    "  FROM movies\n",
    "\n",
    "\"\"\"\n",
    "spark.sql(query).show()"
   ]
  },
  {
   "cell_type": "markdown",
   "id": "9577d2cd-e7ef-4abe-b165-2fff3eec376a",
   "metadata": {},
   "source": [
    "### 2010년 이후에 개봉한 영화를 조회"
   ]
  },
  {
   "cell_type": "code",
   "execution_count": 16,
   "id": "4982aa39-504d-487c-b7b2-39fbd4c58aaa",
   "metadata": {},
   "outputs": [
    {
     "name": "stdout",
     "output_type": "stream",
     "text": [
      "+---+--------+-------+----+-----+---+\n",
      "| id|    name|company|year|month|day|\n",
      "+---+--------+-------+----+-----+---+\n",
      "|  1|어벤져스|   마블|2012|    4| 26|\n",
      "|  2|  슈퍼맨|     DC|2013|    6| 13|\n",
      "|  4|겨울왕국| 디즈니|2014|    1| 16|\n",
      "+---+--------+-------+----+-----+---+\n",
      "\n"
     ]
    }
   ],
   "source": [
    "query = \"\"\"\n",
    "\n",
    "SELECT *\n",
    "FROM movies\n",
    "WHERE year >= 2010\n",
    "\n",
    "\"\"\"\n",
    "spark.sql(query).show()"
   ]
  },
  {
   "cell_type": "markdown",
   "id": "cbffae8b-2fd3-4bb2-8c5a-fdfed8f3097d",
   "metadata": {},
   "source": [
    "### 2012년도 이전에 개봉한 영화의 이름과 회사를 출력"
   ]
  },
  {
   "cell_type": "code",
   "execution_count": 17,
   "id": "e5b8452f-c6b5-4ead-8e25-a3d17248bddd",
   "metadata": {},
   "outputs": [
    {
     "name": "stdout",
     "output_type": "stream",
     "text": [
      "+--------+-------+\n",
      "|    name|company|\n",
      "+--------+-------+\n",
      "|  배트맨|     DC|\n",
      "|아이언맨|   마블|\n",
      "+--------+-------+\n",
      "\n"
     ]
    }
   ],
   "source": [
    "query = \"\"\"\n",
    "\n",
    "SELECT name, company\n",
    "FROM movies\n",
    "WHERE year < 2012\n",
    "\n",
    "\"\"\"\n",
    "spark.sql(query).show()"
   ]
  },
  {
   "cell_type": "markdown",
   "id": "b3849378-76ab-45c0-b4bd-42f2066f8c00",
   "metadata": {},
   "source": [
    "### like 문자열 데이터에서 특정 단어나 문장을 포함한 데이터를 찾을 때\r\n",
    "\n",
    "### % 기호를 사용해서 문장이 매칭되는지 확인 가!\n",
    "### 제목이 ~맨으로 끝나는 데이터의 모든 정보를 조회"
   ]
  },
  {
   "cell_type": "code",
   "execution_count": 18,
   "id": "d01e08af-d067-443c-af93-291419655c42",
   "metadata": {},
   "outputs": [
    {
     "name": "stdout",
     "output_type": "stream",
     "text": [
      "+---+--------+-------+----+-----+---+\n",
      "| id|    name|company|year|month|day|\n",
      "+---+--------+-------+----+-----+---+\n",
      "|  2|  슈퍼맨|     DC|2013|    6| 13|\n",
      "|  3|  배트맨|     DC|2008|    8|  6|\n",
      "|  5|아이언맨|   마블|2008|    4| 30|\n",
      "+---+--------+-------+----+-----+---+\n",
      "\n"
     ]
    }
   ],
   "source": [
    "query = \"\"\"\n",
    "\n",
    "SELECT *\n",
    "FROM movies\n",
    "WHERE name like \"%맨\"\n",
    "\n",
    "\"\"\"\n",
    "spark.sql(query).show()"
   ]
  },
  {
   "cell_type": "markdown",
   "id": "2c257cff-d500-42e9-9091-d8366d73b302",
   "metadata": {},
   "source": [
    "### BETWEEN 특정 데이터와 데이터 사이를 조회\n",
    "\n",
    "### 개봉 월이 4 ~ 8월 사이. 4 <= 개봉월 <= 8"
   ]
  },
  {
   "cell_type": "code",
   "execution_count": 19,
   "id": "71862be7-bba9-4cf1-9cb0-4d3620a0df1a",
   "metadata": {},
   "outputs": [
    {
     "name": "stdout",
     "output_type": "stream",
     "text": [
      "+---+--------+-------+----+-----+---+\n",
      "| id|    name|company|year|month|day|\n",
      "+---+--------+-------+----+-----+---+\n",
      "|  1|어벤져스|   마블|2012|    4| 26|\n",
      "|  2|  슈퍼맨|     DC|2013|    6| 13|\n",
      "|  3|  배트맨|     DC|2008|    8|  6|\n",
      "|  5|아이언맨|   마블|2008|    4| 30|\n",
      "+---+--------+-------+----+-----+---+\n",
      "\n"
     ]
    }
   ],
   "source": [
    "query = \"\"\"\n",
    "\n",
    "SELECT *\n",
    "FROM movies\n",
    "WHERE month BETWEEN 4 and 8\n",
    "\n",
    "\"\"\"\n",
    "spark.sql(query).show()"
   ]
  },
  {
   "cell_type": "markdown",
   "id": "10942e56-2979-4b68-9c94-e501fd49cecf",
   "metadata": {},
   "source": [
    "### Join 구현하기"
   ]
  },
  {
   "cell_type": "code",
   "execution_count": 20,
   "id": "fee19de5-fd4d-4922-a1d8-53adcfb07a02",
   "metadata": {},
   "outputs": [],
   "source": [
    "attendances = [\n",
    "    (1, 13934592., \"KR\"),\n",
    "    (2, 2182227.,\"KR\"),\n",
    "    (3, 4226242., \"KR\"),\n",
    "    (4, 10303058., \"KR\"),\n",
    "    (5, 4300365., \"KR\")\n",
    "]"
   ]
  },
  {
   "cell_type": "code",
   "execution_count": 21,
   "id": "d9f2714c-36e4-4ae3-bdd1-fbaaf9213810",
   "metadata": {},
   "outputs": [],
   "source": [
    "# 직접 스키마 지정해 보기\n",
    "from pyspark.sql.types import StringType, FloatType\\\n",
    "    , IntegerType\\\n",
    "    , StructType, StructField"
   ]
  },
  {
   "cell_type": "code",
   "execution_count": 22,
   "id": "61d9f4d6-9f03-42cd-814f-85f3343eb962",
   "metadata": {},
   "outputs": [],
   "source": [
    "# 모든 컬럼의 타입을 통칭 - 컬럼 데이터의 집합\n",
    "# StructField : 컬럼\n",
    "att_schema = StructType([\n",
    "    StructField(\"id\", IntegerType(), True),\n",
    "    StructField(\"att\", FloatType(), True),\n",
    "    StructField(\"theater_country\", StringType(), True)\n",
    "])"
   ]
  },
  {
   "cell_type": "code",
   "execution_count": 23,
   "id": "a2aeeda8-453f-453c-b9f2-74cf7e4d9aaa",
   "metadata": {},
   "outputs": [
    {
     "data": {
      "text/plain": [
       "[('id', 'int'), ('att', 'float'), ('theater_country', 'string')]"
      ]
     },
     "execution_count": 23,
     "metadata": {},
     "output_type": "execute_result"
    }
   ],
   "source": [
    "att_df = spark.createDataFrame(\n",
    "    data=attendances,\n",
    "    schema=att_schema\n",
    ")\n",
    "\n",
    "att_df.dtypes"
   ]
  },
  {
   "cell_type": "code",
   "execution_count": 24,
   "id": "47a84b47-298e-4d8d-b268-e07b9c2979ec",
   "metadata": {},
   "outputs": [],
   "source": [
    "att_df.createOrReplaceTempView(\"att\")"
   ]
  },
  {
   "cell_type": "code",
   "execution_count": 26,
   "id": "e87b558f-334a-46d9-95b0-fefe2fee1734",
   "metadata": {},
   "outputs": [
    {
     "name": "stdout",
     "output_type": "stream",
     "text": [
      "+---+-----------+---------------+\n",
      "| id|        att|theater_country|\n",
      "+---+-----------+---------------+\n",
      "|  1|1.3934592E7|             KR|\n",
      "|  2|  2182227.0|             KR|\n",
      "|  3|  4226242.0|             KR|\n",
      "|  4|1.0303058E7|             KR|\n",
      "|  5|  4300365.0|             KR|\n",
      "+---+-----------+---------------+\n",
      "\n"
     ]
    }
   ],
   "source": [
    "att_df.show()"
   ]
  },
  {
   "cell_type": "code",
   "execution_count": 27,
   "id": "d75522a0-57de-4720-8b7f-c4244056fd8a",
   "metadata": {},
   "outputs": [
    {
     "name": "stdout",
     "output_type": "stream",
     "text": [
      "+---+--------+-------+-----------+\n",
      "| id|    name|company|        att|\n",
      "+---+--------+-------+-----------+\n",
      "|  1|어벤져스|   마블|1.3934592E7|\n",
      "|  2|  슈퍼맨|     DC|  2182227.0|\n",
      "|  3|  배트맨|     DC|  4226242.0|\n",
      "|  4|겨울왕국| 디즈니|1.0303058E7|\n",
      "|  5|아이언맨|   마블|  4300365.0|\n",
      "+---+--------+-------+-----------+\n",
      "\n"
     ]
    }
   ],
   "source": [
    "q = '''\n",
    "select movies.id, movies.name, movies.company, att.att\n",
    "from movies\n",
    "join att ON movies.id = att.id\n",
    "'''\n",
    "\n",
    "spark.sql(q).show()"
   ]
  },
  {
   "cell_type": "code",
   "execution_count": 48,
   "id": "1ea97a6c-873f-46e9-bca6-4e3bf40a7569",
   "metadata": {},
   "outputs": [],
   "source": [
    "spark.stop()"
   ]
  },
  {
   "cell_type": "code",
   "execution_count": 61,
   "id": "27f4e6ce-af2c-4891-bded-52302e88f6cc",
   "metadata": {},
   "outputs": [],
   "source": [
    "from pyspark.sql.functions import desc"
   ]
  },
  {
   "cell_type": "code",
   "execution_count": 49,
   "id": "61001734-d41b-48e6-8748-df36e669f686",
   "metadata": {},
   "outputs": [],
   "source": [
    "from pyspark.sql import SparkSession\n",
    "spark = SparkSession.builder.appName(\"trop_count_sql\").getOrCreate()"
   ]
  },
  {
   "cell_type": "code",
   "execution_count": 56,
   "id": "f24cc39a-066e-4e92-9e1d-cd9a88d64e0f",
   "metadata": {},
   "outputs": [],
   "source": [
    "zone_data = spark.read.format(\"csv\")\\\n",
    "    .option(\"header\", 'true')\\\n",
    "    .option('inferSchema', 'true')\\\n",
    "    .load('../learning_spark_data/taxi+_zone_lookup.csv')"
   ]
  },
  {
   "cell_type": "code",
   "execution_count": 62,
   "id": "177c93c5-e658-44f7-a4b3-0f460e6b7752",
   "metadata": {},
   "outputs": [
    {
     "name": "stdout",
     "output_type": "stream",
     "text": [
      "+----------+-------------+--------------------+------------+\n",
      "|LocationID|      Borough|                Zone|service_zone|\n",
      "+----------+-------------+--------------------+------------+\n",
      "|       265|      Unknown|                  NA|         N/A|\n",
      "|       264|      Unknown|                  NV|         N/A|\n",
      "|       263|    Manhattan|      Yorkville West| Yellow Zone|\n",
      "|       262|    Manhattan|      Yorkville East| Yellow Zone|\n",
      "|       261|    Manhattan|  World Trade Center| Yellow Zone|\n",
      "|       260|       Queens|            Woodside|   Boro Zone|\n",
      "|       259|        Bronx|  Woodlawn/Wakefield|   Boro Zone|\n",
      "|       258|       Queens|           Woodhaven|   Boro Zone|\n",
      "|       257|     Brooklyn|     Windsor Terrace|   Boro Zone|\n",
      "|       256|     Brooklyn|Williamsburg (Sou...|   Boro Zone|\n",
      "|       255|     Brooklyn|Williamsburg (Nor...|   Boro Zone|\n",
      "|       254|        Bronx|Williamsbridge/Ol...|   Boro Zone|\n",
      "|       253|       Queens|       Willets Point|   Boro Zone|\n",
      "|       252|       Queens|          Whitestone|   Boro Zone|\n",
      "|       251|Staten Island|         Westerleigh|   Boro Zone|\n",
      "|       250|        Bronx|Westchester Villa...|   Boro Zone|\n",
      "|       249|    Manhattan|        West Village| Yellow Zone|\n",
      "|       248|        Bronx|West Farms/Bronx ...|   Boro Zone|\n",
      "|       247|        Bronx|      West Concourse|   Boro Zone|\n",
      "|       246|    Manhattan|West Chelsea/Huds...| Yellow Zone|\n",
      "+----------+-------------+--------------------+------------+\n",
      "only showing top 20 rows\n",
      "\n"
     ]
    }
   ],
   "source": [
    "zone_data.orderBy(desc('LocationID')).show()"
   ]
  },
  {
   "cell_type": "code",
   "execution_count": 50,
   "id": "ba064f39-3ffb-4797-a1bc-0d33ca92ec7d",
   "metadata": {},
   "outputs": [],
   "source": [
    "df  = spark.read.format('csv')\\\n",
    "            .option('header', 'true')\\\n",
    "            .option('inferSchema', 'true').load('../learning_spark_data/fhvhv_tripdata_2020-03.csv')"
   ]
  },
  {
   "cell_type": "code",
   "execution_count": 51,
   "id": "231ad3e4-a5ea-4e52-944f-3f984bb8210d",
   "metadata": {},
   "outputs": [],
   "source": [
    "df.createOrReplaceTempView(\"df\")"
   ]
  },
  {
   "cell_type": "code",
   "execution_count": 104,
   "id": "2ce9865a-b3fd-4b93-9cc0-3f784a8185f0",
   "metadata": {},
   "outputs": [],
   "source": [
    "zone_data.createOrReplaceTempView(\"zone\")"
   ]
  },
  {
   "cell_type": "code",
   "execution_count": 63,
   "id": "564807bc-6f44-4345-8d48-4504a6774e3d",
   "metadata": {},
   "outputs": [
    {
     "name": "stdout",
     "output_type": "stream",
     "text": [
      "+-----------------+------------+------------+\n",
      "|hvfhs_license_num|PULocationID|DOLocationID|\n",
      "+-----------------+------------+------------+\n",
      "|           HV0005|          81|         159|\n",
      "|           HV0005|         168|         119|\n",
      "|           HV0003|         137|         209|\n",
      "|           HV0003|         209|          80|\n",
      "|           HV0003|         256|         226|\n",
      "|           HV0003|          79|         263|\n",
      "|           HV0003|          61|          29|\n",
      "|           HV0003|         150|         150|\n",
      "|           HV0003|         150|         210|\n",
      "|           HV0003|          60|         167|\n",
      "|           HV0003|          47|         213|\n",
      "|           HV0003|         213|         235|\n",
      "|           HV0003|         243|         153|\n",
      "|           HV0003|         127|          18|\n",
      "|           HV0003|          18|         169|\n",
      "|           HV0003|          94|         169|\n",
      "|           HV0003|         211|         158|\n",
      "|           HV0003|         246|         107|\n",
      "|           HV0003|         234|           9|\n",
      "|           HV0005|         139|          10|\n",
      "+-----------------+------------+------------+\n",
      "only showing top 20 rows\n",
      "\n"
     ]
    }
   ],
   "source": [
    "q = '''\n",
    "select hvfhs_license_num, PULocationID, DOLocationID\n",
    "from df\n",
    "'''\n",
    "df = spark.sql(q)\n",
    "df.show()"
   ]
  },
  {
   "cell_type": "code",
   "execution_count": 64,
   "id": "1f39f9b8-38f6-4b02-bfbc-5e9705191cfa",
   "metadata": {},
   "outputs": [
    {
     "name": "stdout",
     "output_type": "stream",
     "text": [
      "+-----------------+\n",
      "|hvfhs_license_num|\n",
      "+-----------------+\n",
      "|           HV0004|\n",
      "|           HV0005|\n",
      "|           HV0003|\n",
      "+-----------------+\n",
      "\n"
     ]
    }
   ],
   "source": [
    "q = '''\n",
    "select hvfhs_license_num\n",
    "from df\n",
    "group by hvfhs_license_num\n",
    "'''\n",
    "spark.sql(q).show()"
   ]
  },
  {
   "cell_type": "code",
   "execution_count": 65,
   "id": "8c152961-791c-4706-ad5e-e43931454774",
   "metadata": {},
   "outputs": [
    {
     "name": "stdout",
     "output_type": "stream",
     "text": [
      "+------------+------+\n",
      "|PULocationID|   cnt|\n",
      "+------------+------+\n",
      "|         148|116205|\n",
      "|         243| 87431|\n",
      "|          31|  5285|\n",
      "|         137| 85552|\n",
      "|          85| 46120|\n",
      "|         251|  9080|\n",
      "|          65| 66622|\n",
      "|         255|113947|\n",
      "|          53| 17571|\n",
      "|         133| 27200|\n",
      "|          78| 76155|\n",
      "|         108| 20378|\n",
      "|         155| 39527|\n",
      "|         211| 61075|\n",
      "|         193| 20111|\n",
      "|          34| 11823|\n",
      "|         115| 10806|\n",
      "|         126| 52833|\n",
      "|         101|  8983|\n",
      "|          81| 41425|\n",
      "+------------+------+\n",
      "only showing top 20 rows\n",
      "\n"
     ]
    }
   ],
   "source": [
    "# 승차별 갯수 PULocationID\n",
    "q = '''\n",
    "select PULocationID, count(*) as cnt\n",
    "from df\n",
    "group by PULocationID\n",
    "'''\n",
    "spark.sql(q).show()"
   ]
  },
  {
   "cell_type": "code",
   "execution_count": 66,
   "id": "8922fdbf-8159-46a8-803e-a6c3ee8df5e6",
   "metadata": {},
   "outputs": [
    {
     "name": "stdout",
     "output_type": "stream",
     "text": [
      "+------------+------+\n",
      "|DOLocationID|   cnt|\n",
      "+------------+------+\n",
      "|         148| 91601|\n",
      "|         243| 86795|\n",
      "|          31|  5526|\n",
      "|          85| 44509|\n",
      "|         137| 80098|\n",
      "|         251|  8525|\n",
      "|          65| 58888|\n",
      "|         255|105051|\n",
      "|          53| 19013|\n",
      "|         133| 27760|\n",
      "|          78| 74447|\n",
      "|         155| 42239|\n",
      "|         108| 21354|\n",
      "|         211| 54176|\n",
      "|         193| 19104|\n",
      "|          34| 12392|\n",
      "|         115|  9809|\n",
      "|         101|  7218|\n",
      "|         126| 59027|\n",
      "|          81| 38445|\n",
      "+------------+------+\n",
      "only showing top 20 rows\n",
      "\n"
     ]
    }
   ],
   "source": [
    "# 하차별 갯수 DOLocationID\n",
    "q = '''\n",
    "select DOLocationID, count(*) as cnt\n",
    "from df\n",
    "group by DOLocationID\n",
    "'''\n",
    "spark.sql(q).show()"
   ]
  },
  {
   "cell_type": "code",
   "execution_count": 90,
   "id": "4dae206f-a660-474c-b8ad-9f8cdef40ab0",
   "metadata": {},
   "outputs": [
    {
     "name": "stdout",
     "output_type": "stream",
     "text": [
      "+-----------------+------------+-----+\n",
      "|hvfhs_license_num|PULocationID|  cnt|\n",
      "+-----------------+------------+-----+\n",
      "|           HV0003|         118|10500|\n",
      "|           HV0003|           3|28232|\n",
      "|           HV0003|         225|88749|\n",
      "|           HV0003|          43|12074|\n",
      "|           HV0003|          30|  429|\n",
      "|           HV0003|         101| 6933|\n",
      "|           HV0003|          72|67917|\n",
      "|           HV0003|         239|50320|\n",
      "|           HV0003|         171|20282|\n",
      "|           HV0003|          98| 9257|\n",
      "|           HV0003|         114|48781|\n",
      "|           HV0003|         218|20759|\n",
      "|           HV0003|          53|14645|\n",
      "|           HV0003|          26|67620|\n",
      "|           HV0003|          34| 8236|\n",
      "|           HV0003|          94|33487|\n",
      "|           HV0003|         129|81748|\n",
      "|           HV0003|         146|23536|\n",
      "|           HV0003|          47|51693|\n",
      "|           HV0003|         216|64413|\n",
      "+-----------------+------------+-----+\n",
      "only showing top 20 rows\n",
      "\n"
     ]
    }
   ],
   "source": [
    "# HV0003 운송사업자의 승차 지역별 트립 건수 집계하고\n",
    "q = '''\n",
    "select hvfhs_license_num, PULocationID, count(*) as cnt\n",
    "from df\n",
    "group by PULocationID, hvfhs_license_num\n",
    "having hvfhs_license_num = 'HV0003'\n",
    "'''\n",
    "spark.sql(q).show()"
   ]
  },
  {
   "cell_type": "code",
   "execution_count": 97,
   "id": "97e9e76e-b81f-40dc-9129-c511fc872ced",
   "metadata": {},
   "outputs": [
    {
     "name": "stdout",
     "output_type": "stream",
     "text": [
      "+-----------------+-------+\n",
      "|hvfhs_license_num|    cnt|\n",
      "+-----------------+-------+\n",
      "|           HV0003|9836763|\n",
      "|           HV0005|3219535|\n",
      "|           HV0004| 336606|\n",
      "+-----------------+-------+\n",
      "\n"
     ]
    }
   ],
   "source": [
    "# 가장 많은 운송 사업자 순으로 정렬하는 분석 쿼리\n",
    "# hvfhs_license_num\n",
    "\n",
    "q = '''\n",
    "select hvfhs_license_num, count(*) as cnt\n",
    "from df\n",
    "group by hvfhs_license_num\n",
    "order by count(*) desc\n",
    "'''\n",
    "spark.sql(q).show()\n"
   ]
  },
  {
   "cell_type": "code",
   "execution_count": 58,
   "id": "c9d10522-071d-4978-93c7-d8dca5129148",
   "metadata": {},
   "outputs": [
    {
     "name": "stdout",
     "output_type": "stream",
     "text": [
      "+-----------------+-------+\n",
      "|hvfhs_license_num|    cnt|\n",
      "+-----------------+-------+\n",
      "|           HV0004| 336606|\n",
      "|           HV0005|3219535|\n",
      "|           HV0003|9836763|\n",
      "+-----------------+-------+\n",
      "\n"
     ]
    }
   ],
   "source": [
    "# 운송사별 운행 건수 비교\n",
    "q = '''\n",
    "select hvfhs_license_num, count(*) as cnt\n",
    "from df\n",
    "group by hvfhs_license_num\n",
    "'''\n",
    "spark.sql(q).show()"
   ]
  },
  {
   "cell_type": "code",
   "execution_count": 115,
   "id": "5f4dfd28-c3fd-4a8e-ab11-e003f7d24805",
   "metadata": {},
   "outputs": [
    {
     "name": "stdout",
     "output_type": "stream",
     "text": [
      "+----------+-------+--------------+------------+\n",
      "|LocationID|Borough|          Zone|service_zone|\n",
      "+----------+-------+--------------+------------+\n",
      "|         1|    EWR|Newark Airport|         EWR|\n",
      "+----------+-------+--------------+------------+\n",
      "only showing top 1 row\n",
      "\n"
     ]
    }
   ],
   "source": [
    "q = '''\n",
    "select *\n",
    "from zone\n",
    "'''\n",
    "spark.sql(q).show(1)"
   ]
  },
  {
   "cell_type": "code",
   "execution_count": 114,
   "id": "dd08946e-5565-4072-ad5b-31584cdc1ac2",
   "metadata": {},
   "outputs": [
    {
     "name": "stdout",
     "output_type": "stream",
     "text": [
      "+------------+-------------+------+\n",
      "|PULocationID|      Borough|   cnt|\n",
      "+------------+-------------+------+\n",
      "|         129|       Queens|102997|\n",
      "|         116|    Manhattan| 70601|\n",
      "|         250|        Bronx| 36232|\n",
      "|         230|    Manhattan|121628|\n",
      "|         145|       Queens| 82701|\n",
      "|         244|    Manhattan|126621|\n",
      "|         184|        Bronx|  2166|\n",
      "|          27|       Queens|   348|\n",
      "|         216|       Queens| 77366|\n",
      "|         123|     Brooklyn| 42106|\n",
      "|          52|     Brooklyn| 18144|\n",
      "|           8|       Queens|   297|\n",
      "|         152|    Manhattan| 36993|\n",
      "|          93|       Queens|  3276|\n",
      "|          72|     Brooklyn| 84575|\n",
      "|          50|    Manhattan| 80762|\n",
      "|         154|     Brooklyn|  1242|\n",
      "|          63|     Brooklyn| 47676|\n",
      "|         241|        Bronx| 65961|\n",
      "|         214|Staten Island|  9204|\n",
      "+------------+-------------+------+\n",
      "only showing top 20 rows\n",
      "\n"
     ]
    }
   ],
   "source": [
    "# 승차 위치 Borough 별 운행 건수\n",
    "\n",
    "q = '''\n",
    "select df.PULocationID, zone.Borough, count(*) as cnt\n",
    "from df\n",
    "join zone on zone.LocationID = df.PULocationID\n",
    "group by zone.Borough, df.PULocationID\n",
    "'''\n",
    "spark.sql(q).show()"
   ]
  },
  {
   "cell_type": "code",
   "execution_count": 117,
   "id": "2c0e94fb-ffcb-4bfe-85e5-7bc110ccc335",
   "metadata": {},
   "outputs": [
    {
     "name": "stdout",
     "output_type": "stream",
     "text": [
      "+------------+-------------------+-------------------+\n",
      "|service_zone|count(DOLocationID)|count(PULocationID)|\n",
      "+------------+-------------------+-------------------+\n",
      "|         EWR|                362|                362|\n",
      "|         N/A|                845|                845|\n",
      "| Yellow Zone|            4025190|            4025190|\n",
      "|    Airports|             319610|             319610|\n",
      "|   Boro Zone|            9046897|            9046897|\n",
      "+------------+-------------------+-------------------+\n",
      "\n"
     ]
    }
   ],
   "source": [
    "# 서비스 존 별 승하차 건수\n",
    "\n",
    "q = '''\n",
    "select zone.service_zone, count(df.DOLocationID), count(df.PULocationID)\n",
    "from df\n",
    "join zone on zone.LocationID = df.PULocationID\n",
    "group by zone.service_zone\n",
    "'''\n",
    "spark.sql(q).show()"
   ]
  },
  {
   "cell_type": "code",
   "execution_count": null,
   "id": "ef814612-b4c2-4fdc-ae5c-0a73a2402c4d",
   "metadata": {},
   "outputs": [],
   "source": []
  }
 ],
 "metadata": {
  "kernelspec": {
   "display_name": "Python 3 (ipykernel)",
   "language": "python",
   "name": "python3"
  },
  "language_info": {
   "codemirror_mode": {
    "name": "ipython",
    "version": 3
   },
   "file_extension": ".py",
   "mimetype": "text/x-python",
   "name": "python",
   "nbconvert_exporter": "python",
   "pygments_lexer": "ipython3",
   "version": "3.11.6"
  }
 },
 "nbformat": 4,
 "nbformat_minor": 5
}
