{
 "cells": [
  {
   "cell_type": "code",
   "execution_count": 55,
   "id": "b66c3540-fbb6-4ff3-b173-a811d89d1c34",
   "metadata": {},
   "outputs": [],
   "source": [
    "from pyspark.sql import SparkSession"
   ]
  },
  {
   "cell_type": "code",
   "execution_count": 79,
   "id": "b0ad6b95-f3c3-40d5-925f-65df385b24fd",
   "metadata": {},
   "outputs": [],
   "source": [
    "spark = SparkSession.builder.appName(\"taxi-fare-prediciton\").getOrCreate()"
   ]
  },
  {
   "cell_type": "code",
   "execution_count": 65,
   "id": "ecdc3d09-14ed-49d5-bbd7-a7cb7c60c500",
   "metadata": {},
   "outputs": [
    {
     "data": {
      "text/plain": [
       "'/home/jovyan/work/linuxPython/../learning_spark_data/trips/*.csv'"
      ]
     },
     "execution_count": 65,
     "metadata": {},
     "output_type": "execute_result"
    }
   ],
   "source": [
    "import os\n",
    "cwd = os.getcwd()\n",
    "trip_data_path = os.path.join(cwd, '../learning_spark_data', 'trips', '*.csv')\n",
    "trip_data_path"
   ]
  },
  {
   "cell_type": "code",
   "execution_count": 66,
   "id": "cc65415b-7fe8-44a6-9177-f3bdfed3b2ad",
   "metadata": {},
   "outputs": [
    {
     "data": {
      "text/plain": [
       "'file:////home/jovyan/work/linuxPython/../learning_spark_data/trips/*.csv'"
      ]
     },
     "execution_count": 66,
     "metadata": {},
     "output_type": "execute_result"
    }
   ],
   "source": [
    "file_path = f\"file:///{trip_data_path.replace(os.sep,'/') }\"\n",
    "file_path"
   ]
  },
  {
   "cell_type": "code",
   "execution_count": 80,
   "id": "31667ea0-8885-446e-9e9f-8212a82a11e1",
   "metadata": {},
   "outputs": [],
   "source": [
    "trip_df = spark.read.csv(file_path, inferSchema=True, header=True)\n",
    "# trip_df.printSchema()"
   ]
  },
  {
   "cell_type": "code",
   "execution_count": 81,
   "id": "21b10631-3817-405a-acb2-16cd4eac4d73",
   "metadata": {},
   "outputs": [
    {
     "name": "stdout",
     "output_type": "stream",
     "text": [
      "+--------+--------------------+---------------------+---------------+-------------+----------+------------------+------------+------------+------------+-----------+-----+-------+----------+------------+---------------------+------------+--------------------+\n",
      "|VendorID|tpep_pickup_datetime|tpep_dropoff_datetime|passenger_count|trip_distance|RatecodeID|store_and_fwd_flag|PULocationID|DOLocationID|payment_type|fare_amount|extra|mta_tax|tip_amount|tolls_amount|improvement_surcharge|total_amount|congestion_surcharge|\n",
      "+--------+--------------------+---------------------+---------------+-------------+----------+------------------+------------+------------+------------+-----------+-----+-------+----------+------------+---------------------+------------+--------------------+\n",
      "|       2| 2021-03-01 00:22:02|  2021-03-01 00:23:22|              1|          0.0|         1|                 N|         264|         264|           2|        3.0|  0.5|    0.5|       0.0|         0.0|                  0.3|         4.3|                 0.0|\n",
      "|       2| 2021-03-01 00:24:48|  2021-03-01 00:24:56|              1|          0.0|         1|                 N|         152|         152|           2|        2.5|  0.5|    0.5|       0.0|         0.0|                  0.3|         3.8|                 0.0|\n",
      "|       2| 2021-03-01 00:25:17|  2021-03-01 00:31:01|              1|          0.0|         1|                 N|         152|         152|           2|        3.5|  0.5|    0.5|       0.0|         0.0|                  0.3|         4.8|                 0.0|\n",
      "|       1| 2021-03-01 00:07:40|  2021-03-01 00:31:23|              0|         16.5|         4|                 N|         138|         265|           1|       51.0|  0.5|    0.5|     11.65|        6.12|                  0.3|       70.07|                 0.0|\n",
      "|       2| 2021-03-01 00:02:13|  2021-03-01 00:06:01|              1|         1.13|         1|                 N|          68|         264|           1|        5.5|  0.5|    0.5|      1.86|         0.0|                  0.3|       11.16|                 2.5|\n",
      "+--------+--------------------+---------------------+---------------+-------------+----------+------------------+------------+------------+------------+-----------+-----+-------+----------+------------+---------------------+------------+--------------------+\n",
      "only showing top 5 rows\n",
      "\n"
     ]
    }
   ],
   "source": [
    "trip_df.show(5)"
   ]
  },
  {
   "cell_type": "code",
   "execution_count": 90,
   "id": "b2668e5b-47cf-4bfb-9780-3d49b0d52c2d",
   "metadata": {},
   "outputs": [],
   "source": [
    "trip_df.createOrReplaceTempView('trips')"
   ]
  },
  {
   "cell_type": "code",
   "execution_count": 91,
   "id": "f40f481b-51cd-4ad0-bf0e-69208b6cc51d",
   "metadata": {},
   "outputs": [],
   "source": [
    "query = \"\"\"\n",
    "SELECT\n",
    "    trip_distance,\n",
    "    total_amount\n",
    "FROM trips\n",
    "WHERE total_amount < 5000\n",
    "  AND total_amount > 0\n",
    "  AND trip_distance > 0\n",
    "  AND trip_distance < 500\n",
    "  AND passenger_count < 4\n",
    "  AND TO_DATE(tpep_pickup_datetime) >= \"2021-01-01\"\n",
    "  AND TO_DATE(tpep_pickup_datetime) < \"2021-08-01\"\n",
    "\"\"\""
   ]
  },
  {
   "cell_type": "code",
   "execution_count": 96,
   "id": "686bbd52-6fc4-405a-820e-0bf6b958564e",
   "metadata": {},
   "outputs": [],
   "source": [
    "trips = spark.sql(query)"
   ]
  },
  {
   "cell_type": "code",
   "execution_count": 127,
   "id": "6954530a-400b-488a-bde9-a2f4d8d12b1d",
   "metadata": {},
   "outputs": [],
   "source": [
    "from pyspark.ml.feature import VectorAssembler\n",
    "from pyspark.ml.regression import LinearRegression"
   ]
  },
  {
   "cell_type": "code",
   "execution_count": 133,
   "id": "8733b024-9e8f-4c7d-b877-c837651a0382",
   "metadata": {},
   "outputs": [],
   "source": [
    "p = {\"inputCols\":['trip_distance'], \"outputCol\":'features'}"
   ]
  },
  {
   "cell_type": "code",
   "execution_count": 149,
   "id": "ed146e14-a309-410f-91bc-31ce629c0d3f",
   "metadata": {},
   "outputs": [],
   "source": [
    "def learning(machine, data, param, isVassembler=False, Vparam=p):\n",
    "    train_data, test_data = data.randomSplit([0.7,0.3], seed=12)\n",
    "\n",
    "    if isVassembler:\n",
    "        vassembler = VectorAssembler(**Vparam)\n",
    "        train_data = vassembler.transform(train_data)\n",
    "        test_data = vassembler.transform(test_data)\n",
    "    \n",
    "    learning = machine(**param)\n",
    "    model = learning.fit(train_data)\n",
    "    \n",
    "    predic = model.transform(test_data)\n",
    "    \n",
    "    print(f'rootMeanSquaredError: {model.summary.rootMeanSquaredError}')\n",
    "    print(f\"r2: {model.summary.r2}\")\n",
    "    predic.show()"
   ]
  },
  {
   "cell_type": "code",
   "execution_count": 150,
   "id": "0560b9ca-84c3-4f4d-83b3-a81ddd034153",
   "metadata": {},
   "outputs": [],
   "source": [
    "para= {\"maxIter\":50, \"labelCol\":'total_amount', \"featuresCol\":'features'}"
   ]
  },
  {
   "cell_type": "code",
   "execution_count": 151,
   "id": "d8d0b0cd-32b5-4893-8a6a-56ecfe86d52e",
   "metadata": {},
   "outputs": [
    {
     "name": "stdout",
     "output_type": "stream",
     "text": [
      "rootMeanSquaredError: 6.283870631154954\n",
      "r2: 0.7662583373680235\n",
      "+-------------+------------+--------+-----------------+\n",
      "|trip_distance|total_amount|features|       prediction|\n",
      "+-------------+------------+--------+-----------------+\n",
      "|         0.01|         3.3|  [0.01]|9.404887108114131|\n",
      "|         0.01|         3.3|  [0.01]|9.404887108114131|\n",
      "|         0.01|         3.3|  [0.01]|9.404887108114131|\n",
      "|         0.01|         3.3|  [0.01]|9.404887108114131|\n",
      "|         0.01|         3.3|  [0.01]|9.404887108114131|\n",
      "|         0.01|         3.3|  [0.01]|9.404887108114131|\n",
      "|         0.01|         3.3|  [0.01]|9.404887108114131|\n",
      "|         0.01|         3.3|  [0.01]|9.404887108114131|\n",
      "|         0.01|         3.3|  [0.01]|9.404887108114131|\n",
      "|         0.01|         3.3|  [0.01]|9.404887108114131|\n",
      "|         0.01|         3.3|  [0.01]|9.404887108114131|\n",
      "|         0.01|         3.3|  [0.01]|9.404887108114131|\n",
      "|         0.01|         3.3|  [0.01]|9.404887108114131|\n",
      "|         0.01|         3.3|  [0.01]|9.404887108114131|\n",
      "|         0.01|         3.3|  [0.01]|9.404887108114131|\n",
      "|         0.01|         3.3|  [0.01]|9.404887108114131|\n",
      "|         0.01|         3.3|  [0.01]|9.404887108114131|\n",
      "|         0.01|         3.3|  [0.01]|9.404887108114131|\n",
      "|         0.01|         3.8|  [0.01]|9.404887108114131|\n",
      "|         0.01|         3.8|  [0.01]|9.404887108114131|\n",
      "+-------------+------------+--------+-----------------+\n",
      "only showing top 20 rows\n",
      "\n"
     ]
    }
   ],
   "source": [
    "learning(LinearRegression, trips, para, True, p)"
   ]
  },
  {
   "cell_type": "code",
   "execution_count": 152,
   "id": "afddbfa1-53de-47da-9321-90a1acab1166",
   "metadata": {},
   "outputs": [],
   "source": [
    "spark.stop()"
   ]
  },
  {
   "cell_type": "code",
   "execution_count": null,
   "id": "0d35284b-179b-406c-8eb3-dcb79920f589",
   "metadata": {},
   "outputs": [],
   "source": []
  }
 ],
 "metadata": {
  "kernelspec": {
   "display_name": "Python 3 (ipykernel)",
   "language": "python",
   "name": "python3"
  },
  "language_info": {
   "codemirror_mode": {
    "name": "ipython",
    "version": 3
   },
   "file_extension": ".py",
   "mimetype": "text/x-python",
   "name": "python",
   "nbconvert_exporter": "python",
   "pygments_lexer": "ipython3",
   "version": "3.11.6"
  }
 },
 "nbformat": 4,
 "nbformat_minor": 5
}
