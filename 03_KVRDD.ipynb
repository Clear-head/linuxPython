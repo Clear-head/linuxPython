{
 "cells": [
  {
   "cell_type": "code",
   "execution_count": 57,
   "id": "c28b06e8-c2fe-4186-a83b-884dcdb46ccf",
   "metadata": {},
   "outputs": [],
   "source": [
    "from pyspark.sql import SparkSession\n",
    "\n",
    "spark = SparkSession.builder \\\n",
    "    .appName(\"restaurant-review-average\") \\\n",
    "    .master(\"local[*]\") \\\n",
    "    .getOrCreate()"
   ]
  },
  {
   "cell_type": "code",
   "execution_count": 58,
   "id": "76de5ed8-ce24-4cc0-9eaf-fc2c1f3c29bc",
   "metadata": {},
   "outputs": [],
   "source": [
    "sc = spark.sparkContext  # 필요 시 RDD API를 위해 사용"
   ]
  },
  {
   "cell_type": "code",
   "execution_count": 59,
   "id": "5ce6de57-975a-4950-8b98-96a14eaa768b",
   "metadata": {},
   "outputs": [],
   "source": [
    "data = [\n",
    "    (0, \"짜장면\", \"중식\", 125),\n",
    "    (1, \"짬뽕\", \"중식\", 235),\n",
    "    (2, \"김밥\", \"분식\", 32),\n",
    "    (3, \"떡볶이\", \"분식\", 534),\n",
    "    (4, \"라멘\", \"일식\", 223),\n",
    "    (5, \"돈가스\", \"일식\", 52),\n",
    "    (6, \"우동\", \"일식\", 12),\n",
    "    (7, \"쌀국수\", \"아시안\", 312),\n",
    "    (8, \"햄버거\", \"패스트푸드\", 12),\n",
    "    (9, \"치킨\", \"패스트푸드\", 23),\n",
    "]"
   ]
  },
  {
   "cell_type": "code",
   "execution_count": 60,
   "id": "a23990dc-ccb2-4913-92cd-b4719d2ec8f0",
   "metadata": {},
   "outputs": [
    {
     "data": {
      "text/plain": [
       "['id,item,cateogry,reviews,',\n",
       " '0,짜장면,중식,125,',\n",
       " '1,짬뽕,중식,235,',\n",
       " '2,김밥,분식,32,',\n",
       " '3,떡볶이,분식,534,']"
      ]
     },
     "execution_count": 60,
     "metadata": {},
     "output_type": "execute_result"
    }
   ],
   "source": [
    "lines = sc.textFile(\"file:///home/jovyan/work/learning_spark_data/restaurant_reviews.csv\")\n",
    "\n",
    "lines.take(5)"
   ]
  },
  {
   "cell_type": "code",
   "execution_count": 61,
   "id": "128fccab-2ec0-462d-8764-6f02e1cf4a33",
   "metadata": {},
   "outputs": [
    {
     "data": {
      "text/plain": [
       "['0,짜장면,중식,125,',\n",
       " '1,짬뽕,중식,235,',\n",
       " '2,김밥,분식,32,',\n",
       " '3,떡볶이,분식,534,',\n",
       " '4,라멘,일식,223,',\n",
       " '5,돈가스,일식,52,',\n",
       " '6,우동,일식,12,',\n",
       " '7,쌀국수,아시안,312,',\n",
       " '8,햄버거,패스트푸드,12,',\n",
       " '9,치킨,패스트푸드,23']"
      ]
     },
     "execution_count": 61,
     "metadata": {},
     "output_type": "execute_result"
    }
   ],
   "source": [
    "header = lines.first()\n",
    "filtered_lines = lines.filter(lambda row : row != header)\n",
    "filtered_lines.collect()"
   ]
  },
  {
   "cell_type": "code",
   "execution_count": 62,
   "id": "b974d6de-3184-4de4-b6dd-1b0e9b570365",
   "metadata": {},
   "outputs": [],
   "source": [
    "def parse(row):\n",
    "    fields = row.split(\",\")\n",
    "    \n",
    "    category = fields[2] #카테고리\n",
    "    \n",
    "    # reviews는 정수로 parse\n",
    "    reviews = fields[3] # 리뷰수\n",
    "    reviews = int(reviews)\n",
    "    \n",
    "    return category, reviews"
   ]
  },
  {
   "cell_type": "code",
   "execution_count": 63,
   "id": "0d17b0fd-8646-45dc-acb6-aae8490101ba",
   "metadata": {},
   "outputs": [
    {
     "data": {
      "text/plain": [
       "('중식', 125)"
      ]
     },
     "execution_count": 63,
     "metadata": {},
     "output_type": "execute_result"
    }
   ],
   "source": [
    "parse('0,짜장면,중식,125,')"
   ]
  },
  {
   "cell_type": "code",
   "execution_count": 64,
   "id": "67529fbb-89c6-4288-a54d-3ffcc3d6657d",
   "metadata": {},
   "outputs": [
    {
     "data": {
      "text/plain": [
       "PythonRDD[65] at RDD at PythonRDD.scala:53"
      ]
     },
     "execution_count": 64,
     "metadata": {},
     "output_type": "execute_result"
    }
   ],
   "source": [
    "category_reviews = filtered_lines.map(parse)\n",
    "category_reviews"
   ]
  },
  {
   "cell_type": "code",
   "execution_count": 65,
   "id": "a575f373-1e46-4607-931f-095d11a23cc2",
   "metadata": {},
   "outputs": [
    {
     "data": {
      "text/plain": [
       "[('중식', 125),\n",
       " ('중식', 235),\n",
       " ('분식', 32),\n",
       " ('분식', 534),\n",
       " ('일식', 223),\n",
       " ('일식', 52),\n",
       " ('일식', 12),\n",
       " ('아시안', 312),\n",
       " ('패스트푸드', 12),\n",
       " ('패스트푸드', 23)]"
      ]
     },
     "execution_count": 65,
     "metadata": {},
     "output_type": "execute_result"
    }
   ],
   "source": [
    "category_reviews.collect()"
   ]
  },
  {
   "cell_type": "code",
   "execution_count": 66,
   "id": "57c80d51-4acd-4019-9fdf-be4d1ec0a098",
   "metadata": {},
   "outputs": [
    {
     "data": {
      "text/plain": [
       "[('중식', (125, 1)),\n",
       " ('중식', (235, 1)),\n",
       " ('분식', (32, 1)),\n",
       " ('분식', (534, 1)),\n",
       " ('일식', (223, 1)),\n",
       " ('일식', (52, 1)),\n",
       " ('일식', (12, 1)),\n",
       " ('아시안', (312, 1)),\n",
       " ('패스트푸드', (12, 1)),\n",
       " ('패스트푸드', (23, 1))]"
      ]
     },
     "execution_count": 66,
     "metadata": {},
     "output_type": "execute_result"
    }
   ],
   "source": [
    "category_review_count = category_reviews.mapValues(lambda x : (x, 1)) # x는 review 개수\n",
    "category_review_count.collect()"
   ]
  },
  {
   "cell_type": "code",
   "execution_count": 67,
   "id": "d7ffe87f-ca0b-4355-b3da-913963a1baad",
   "metadata": {},
   "outputs": [
    {
     "data": {
      "text/plain": [
       "[('중식', (360, 2)),\n",
       " ('분식', (566, 2)),\n",
       " ('일식', (287, 3)),\n",
       " ('아시안', (312, 1)),\n",
       " ('패스트푸드', (35, 2))]"
      ]
     },
     "execution_count": 67,
     "metadata": {},
     "output_type": "execute_result"
    }
   ],
   "source": [
    "#같은 key(카테고리)끼리 x와 y의 (리뷰 수 합계, 개수 합계)를 누적\n",
    "#첫번째 중식 x, 두번째 중식 y , [0] 은 리뷰수, [1] 은 개수 -> 같은 키끼리 행을 바꿔가며 계속 누적해 나간다.\n",
    "reduced = category_review_count.reduceByKey(lambda x, y : (x[0] + y[0], x[1] + y[1]))\n",
    "reduced.collect()"
   ]
  },
  {
   "cell_type": "code",
   "execution_count": 68,
   "id": "2530d6d9-5150-423e-9bb4-2a3d243a29e4",
   "metadata": {},
   "outputs": [
    {
     "data": {
      "text/plain": [
       "[('중식', 180.0),\n",
       " ('분식', 283.0),\n",
       " ('일식', 95.66666666666667),\n",
       " ('아시안', 312.0),\n",
       " ('패스트푸드', 17.5)]"
      ]
     },
     "execution_count": 68,
     "metadata": {},
     "output_type": "execute_result"
    }
   ],
   "source": [
    "average = reduced.mapValues(lambda x : x[0] / x[1])\n",
    "average.collect()"
   ]
  },
  {
   "cell_type": "markdown",
   "id": "65204576-441d-480e-8e69-419e226f22f5",
   "metadata": {},
   "source": [
    "## Non used Persist "
   ]
  },
  {
   "cell_type": "code",
   "execution_count": 69,
   "id": "16889c54-8f7f-40d7-b853-62b983c774fb",
   "metadata": {},
   "outputs": [
    {
     "data": {
      "text/plain": [
       "[('중식', 125),\n",
       " ('중식', 235),\n",
       " ('분식', 32),\n",
       " ('분식', 534),\n",
       " ('일식', 223),\n",
       " ('일식', 52),\n",
       " ('일식', 12),\n",
       " ('아시안', 312),\n",
       " ('패스트푸드', 12),\n",
       " ('패스트푸드', 23)]"
      ]
     },
     "execution_count": 69,
     "metadata": {},
     "output_type": "execute_result"
    }
   ],
   "source": [
    "# transformations를 수행할 RDD 생성\n",
    "categoryReviews = filtered_lines.map(parse)\n",
    "categoryReviews.collect()"
   ]
  },
  {
   "cell_type": "code",
   "execution_count": 70,
   "id": "4544e00a-9c6e-4b31-bca1-24be47a985ff",
   "metadata": {},
   "outputs": [],
   "source": [
    "result1 = categoryReviews.take(10) # action을 곧바로 실행"
   ]
  },
  {
   "cell_type": "code",
   "execution_count": 71,
   "id": "602b8914-2a58-4f42-a6a5-c1f635f1f3c2",
   "metadata": {},
   "outputs": [],
   "source": [
    "result2 = categoryReviews.mapValues(lambda x : (x, 1)).collect()"
   ]
  },
  {
   "cell_type": "code",
   "execution_count": 72,
   "id": "13ed1b3b-e909-4f75-8bee-6308d9affe64",
   "metadata": {},
   "outputs": [
    {
     "data": {
      "text/plain": [
       "[('중식', 360), ('분식', 566), ('일식', 287), ('아시안', 312), ('패스트푸드', 35)]"
      ]
     },
     "execution_count": 72,
     "metadata": {},
     "output_type": "execute_result"
    }
   ],
   "source": [
    "# 카테고리별 값1 합계 계산 (첫 번째 연산)\n",
    "result_sum = categoryReviews \\\n",
    "    .reduceByKey(lambda a, b: a + b) \\\n",
    "    .collect()\n",
    "result_sum"
   ]
  },
  {
   "cell_type": "markdown",
   "id": "4de6f244-2465-4818-bcad-9dbcd1569cba",
   "metadata": {},
   "source": [
    "## Used Persist"
   ]
  },
  {
   "cell_type": "code",
   "execution_count": 73,
   "id": "0ce28099-bddc-45b4-aec2-f1d3474ed7c0",
   "metadata": {},
   "outputs": [
    {
     "data": {
      "text/plain": [
       "PythonRDD[82] at RDD at PythonRDD.scala:53"
      ]
     },
     "execution_count": 73,
     "metadata": {},
     "output_type": "execute_result"
    }
   ],
   "source": [
    "#job x\n",
    "# categoryReviews RDD는 하나만 존재하는 RDD\n",
    "categoryReviews = filtered_lines.map(parse).persist() \n",
    "categoryReviews"
   ]
  },
  {
   "cell_type": "code",
   "execution_count": 74,
   "id": "f1b704e1-499a-442c-9308-f2fc79bffaee",
   "metadata": {},
   "outputs": [
    {
     "data": {
      "text/plain": [
       "[('중식', 125),\n",
       " ('중식', 235),\n",
       " ('분식', 32),\n",
       " ('분식', 534),\n",
       " ('일식', 223),\n",
       " ('일식', 52),\n",
       " ('일식', 12),\n",
       " ('아시안', 312),\n",
       " ('패스트푸드', 12),\n",
       " ('패스트푸드', 23)]"
      ]
     },
     "execution_count": 74,
     "metadata": {},
     "output_type": "execute_result"
    }
   ],
   "source": [
    "result3 = categoryReviews.take(10)\n",
    "result3"
   ]
  },
  {
   "cell_type": "code",
   "execution_count": 75,
   "id": "7f1b503c-a15b-489b-b39f-05e1be3dd182",
   "metadata": {},
   "outputs": [
    {
     "data": {
      "text/plain": [
       "[('중식', (125, 1)),\n",
       " ('중식', (235, 1)),\n",
       " ('분식', (32, 1)),\n",
       " ('분식', (534, 1)),\n",
       " ('일식', (223, 1)),\n",
       " ('일식', (52, 1)),\n",
       " ('일식', (12, 1)),\n",
       " ('아시안', (312, 1)),\n",
       " ('패스트푸드', (12, 1)),\n",
       " ('패스트푸드', (23, 1))]"
      ]
     },
     "execution_count": 75,
     "metadata": {},
     "output_type": "execute_result"
    }
   ],
   "source": [
    "result4 = categoryReviews.mapValues(lambda x : (x, 1)).collect()\n",
    "result4"
   ]
  },
  {
   "cell_type": "code",
   "execution_count": 76,
   "id": "97e3c6a7-8d30-4082-9d80-2af5adf1aca6",
   "metadata": {},
   "outputs": [
    {
     "data": {
      "text/plain": [
       "[('중식', 360), ('분식', 566), ('일식', 287), ('아시안', 312), ('패스트푸드', 35)]"
      ]
     },
     "execution_count": 76,
     "metadata": {},
     "output_type": "execute_result"
    }
   ],
   "source": [
    "# 카테고리별 값1 합계 계산 (첫 번째 연산)\n",
    "result_sum = categoryReviews \\\n",
    "    .reduceByKey(lambda a, b: a + b) \\\n",
    "    .collect()\n",
    "result_sum"
   ]
  },
  {
   "cell_type": "code",
   "execution_count": 77,
   "id": "08538341-5260-4609-8d44-717e2755b676",
   "metadata": {},
   "outputs": [
    {
     "data": {
      "text/plain": [
       "[('중식', (125, 1)), ('중식', (235, 1)), ('분식', (32, 1))]"
      ]
     },
     "execution_count": 77,
     "metadata": {},
     "output_type": "execute_result"
    }
   ],
   "source": [
    "# (카테고리, (점수, 1)) 형태로 변환\n",
    "rdd_with_count = categoryReviews.map(lambda x: (x[0], (x[1], 1)))\n",
    "rdd_with_count.take(3)"
   ]
  },
  {
   "cell_type": "code",
   "execution_count": 78,
   "id": "3ead1e65-d801-43e7-9fd4-d755b1521fca",
   "metadata": {},
   "outputs": [
    {
     "data": {
      "text/plain": [
       "[('중식', (360, 2)), ('분식', (566, 2)), ('일식', (287, 3))]"
      ]
     },
     "execution_count": 78,
     "metadata": {},
     "output_type": "execute_result"
    }
   ],
   "source": [
    "# reduceByKey로 (점수 총합, 개수 총합) 집계\n",
    "rdd_sums = rdd_with_count.reduceByKey(lambda a, b: (a[0] + b[0], a[1] + b[1]))\n",
    "rdd_sums.take(3)"
   ]
  },
  {
   "cell_type": "code",
   "execution_count": 79,
   "id": "47c0ede6-f680-416f-aad1-3128a7c40976",
   "metadata": {},
   "outputs": [
    {
     "data": {
      "text/plain": [
       "[('중식', 180.0), ('분식', 283.0), ('일식', 95.67), ('아시안', 312.0), ('패스트푸드', 17.5)]"
      ]
     },
     "execution_count": 79,
     "metadata": {},
     "output_type": "execute_result"
    }
   ],
   "source": [
    "# 평균 계산\n",
    "rdd_avg = rdd_sums.mapValues(lambda x: round(x[0] / x[1], 2))\n",
    "\n",
    "# 결과 출력\n",
    "rdd_avg.collect()"
   ]
  },
  {
   "cell_type": "code",
   "execution_count": 80,
   "id": "1fbaf0f1-f44a-4813-8e6f-e729bcc9fbb2",
   "metadata": {},
   "outputs": [
    {
     "data": {
      "text/plain": [
       "PythonRDD[82] at RDD at PythonRDD.scala:53"
      ]
     },
     "execution_count": 80,
     "metadata": {},
     "output_type": "execute_result"
    }
   ],
   "source": [
    "# 기존 저장 레벨 해제\n",
    "categoryReviews.unpersist()"
   ]
  },
  {
   "cell_type": "code",
   "execution_count": 81,
   "id": "e733a809-855b-4432-a598-57eae5bae53f",
   "metadata": {},
   "outputs": [
    {
     "data": {
      "text/plain": [
       "PythonRDD[82] at RDD at PythonRDD.scala:53"
      ]
     },
     "execution_count": 81,
     "metadata": {},
     "output_type": "execute_result"
    }
   ],
   "source": [
    "from pyspark import StorageLevel\n",
    "categoryReviews.persist(StorageLevel.MEMORY_AND_DISK)"
   ]
  },
  {
   "cell_type": "code",
   "execution_count": 86,
   "id": "cf7c72b5-32ea-46f0-bae6-e9870c44e05d",
   "metadata": {},
   "outputs": [
    {
     "data": {
      "text/plain": [
       "[('중식', 125), ('중식', 235), ('분식', 32)]"
      ]
     },
     "execution_count": 86,
     "metadata": {},
     "output_type": "execute_result"
    }
   ],
   "source": [
    "# 구조 확인하기\n",
    "categoryReviews.take(3)"
   ]
  },
  {
   "cell_type": "code",
   "execution_count": 87,
   "id": "72fc1d68-4a9a-45d8-b1e0-acf2ee396280",
   "metadata": {},
   "outputs": [],
   "source": [
    "result11 = categoryReviews.filter(lambda x: x[1] > 100).count()\n",
    "result12 = categoryReviews.filter(lambda x: x[1] <= 100).count()"
   ]
  },
  {
   "cell_type": "markdown",
   "id": "c53d15c5-e51a-4a26-a891-4e9365189c84",
   "metadata": {},
   "source": [
    "# flatMap()"
   ]
  },
  {
   "cell_type": "code",
   "execution_count": 88,
   "id": "c40aae75-2794-43f9-9027-b59e9b7c69e1",
   "metadata": {},
   "outputs": [
    {
     "data": {
      "text/plain": [
       "[[1, 2], [2, 3], [3, 4]]"
      ]
     },
     "execution_count": 88,
     "metadata": {},
     "output_type": "execute_result"
    }
   ],
   "source": [
    "rdd = sc.parallelize([1, 2, 3])\n",
    "rdd_map = rdd.map(lambda x: [x, x + 1])  # => [[1, 2], [2, 3], [3, 4]]\n",
    "rdd_map.collect()"
   ]
  },
  {
   "cell_type": "code",
   "execution_count": 89,
   "id": "6559d101-52cb-4b5d-b098-de6fd6dffbb0",
   "metadata": {},
   "outputs": [
    {
     "data": {
      "text/plain": [
       "[1, 2, 2, 3, 3, 4]"
      ]
     },
     "execution_count": 89,
     "metadata": {},
     "output_type": "execute_result"
    }
   ],
   "source": [
    "rdd_flatmap = rdd.flatMap(lambda x: [x, x + 1])  # => [1, 2, 2, 3, 3, 4]\n",
    "rdd_flatmap.collect()"
   ]
  },
  {
   "cell_type": "markdown",
   "id": "649f96a1-b60a-43ed-95f0-375d92c02d88",
   "metadata": {},
   "source": [
    "### 텍스트를 단어로 쪼개서 flatMap()"
   ]
  },
  {
   "cell_type": "code",
   "execution_count": 90,
   "id": "8a52704b-0a90-4208-8e1d-18273b8be7fd",
   "metadata": {},
   "outputs": [],
   "source": [
    "movies = [\n",
    "    \"그린 북\",\n",
    "    \"매트릭스\",\n",
    "    \"토이 스토리\",\n",
    "    \"캐스트 어웨이\",\n",
    "    \"포드 V 페라리\",\n",
    "    \"보헤미안 랩소디\",\n",
    "    \"빽 투 더 퓨처\",\n",
    "    \"반지의 제왕\",\n",
    "    \"죽은 시인의 사회\"\n",
    "]"
   ]
  },
  {
   "cell_type": "code",
   "execution_count": 91,
   "id": "7bb88c0c-2eea-4d77-a57e-0b44b7e81244",
   "metadata": {},
   "outputs": [
    {
     "data": {
      "text/plain": [
       "ParallelCollectionRDD[108] at readRDDFromFile at PythonRDD.scala:289"
      ]
     },
     "execution_count": 91,
     "metadata": {},
     "output_type": "execute_result"
    }
   ],
   "source": [
    "moviesRDD = sc.parallelize(movies)\n",
    "moviesRDD"
   ]
  },
  {
   "cell_type": "code",
   "execution_count": 92,
   "id": "1c1ddbf7-e734-4ed6-ab9b-a9304461e0b8",
   "metadata": {},
   "outputs": [
    {
     "data": {
      "text/plain": [
       "['그린',\n",
       " '북',\n",
       " '매트릭스',\n",
       " '토이',\n",
       " '스토리',\n",
       " '캐스트',\n",
       " '어웨이',\n",
       " '포드',\n",
       " 'V',\n",
       " '페라리',\n",
       " '보헤미안',\n",
       " '랩소디',\n",
       " '빽',\n",
       " '투',\n",
       " '더',\n",
       " '퓨처',\n",
       " '반지의',\n",
       " '제왕',\n",
       " '죽은',\n",
       " '시인의',\n",
       " '사회']"
      ]
     },
     "execution_count": 92,
     "metadata": {},
     "output_type": "execute_result"
    }
   ],
   "source": [
    "#job 추가 x\n",
    "flatMovies = moviesRDD.flatMap(lambda x : x.split(\" \"))\n",
    "flatMovies.collect()"
   ]
  },
  {
   "cell_type": "markdown",
   "id": "e0d40ead-74cf-4f35-9edf-62dabd15715b",
   "metadata": {},
   "source": [
    "##  집합 Transformation"
   ]
  },
  {
   "cell_type": "code",
   "execution_count": 93,
   "id": "793ae875-d10c-4f37-bb08-0e4509dc59d2",
   "metadata": {},
   "outputs": [],
   "source": [
    "num1 = sc.parallelize([1, 2, 3, 4, 5])\n",
    "num2 = sc.parallelize([4, 5, 6, 7, 8, 9, 10])"
   ]
  },
  {
   "cell_type": "code",
   "execution_count": 94,
   "id": "e22f1a1d-263e-4998-bf84-8f389280ec2b",
   "metadata": {},
   "outputs": [
    {
     "data": {
      "text/plain": [
       "[4, 5]"
      ]
     },
     "execution_count": 94,
     "metadata": {},
     "output_type": "execute_result"
    }
   ],
   "source": [
    "num1.intersection(num2).collect()"
   ]
  },
  {
   "cell_type": "markdown",
   "id": "3cac282d-7b90-4b96-92c5-31fba09cce1c",
   "metadata": {},
   "source": [
    "###  합집합 구하기 - union"
   ]
  },
  {
   "cell_type": "code",
   "execution_count": 100,
   "id": "3921d1f5-c167-452c-bc2c-8b9e56b07941",
   "metadata": {},
   "outputs": [
    {
     "data": {
      "text/plain": [
       "UnionRDD[133] at union at NativeMethodAccessorImpl.java:0"
      ]
     },
     "execution_count": 100,
     "metadata": {},
     "output_type": "execute_result"
    }
   ],
   "source": [
    "num_union = num1.union(num2)\n",
    "num_union"
   ]
  },
  {
   "cell_type": "code",
   "execution_count": 101,
   "id": "60c6e067-6319-4a0e-9126-6f73f43c520f",
   "metadata": {},
   "outputs": [
    {
     "data": {
      "text/plain": [
       "[1, 2, 3, 4, 5, 4, 5, 6, 7, 8, 9, 10]"
      ]
     },
     "execution_count": 101,
     "metadata": {},
     "output_type": "execute_result"
    }
   ],
   "source": [
    "num_union.collect()"
   ]
  },
  {
   "cell_type": "markdown",
   "id": "96c4e356-2dec-44d8-9c84-b48e85ad33ea",
   "metadata": {},
   "source": [
    "### 차집합 구하기 - subtract"
   ]
  },
  {
   "cell_type": "code",
   "execution_count": 102,
   "id": "7f239f70-4de3-477e-96d1-e03019f17628",
   "metadata": {},
   "outputs": [
    {
     "data": {
      "text/plain": [
       "[1, 2, 3]"
      ]
     },
     "execution_count": 102,
     "metadata": {},
     "output_type": "execute_result"
    }
   ],
   "source": [
    "num1.subtract(num2).collect()"
   ]
  },
  {
   "cell_type": "markdown",
   "id": "e02226e9-92bd-4358-aa0e-2559d2865b00",
   "metadata": {},
   "source": [
    "## 데이터 랜덤 추출 - sample(withReplacement, fraction, seed=None)"
   ]
  },
  {
   "cell_type": "code",
   "execution_count": 105,
   "id": "afb0fa61-46d3-481c-8d70-b925d9cfda5c",
   "metadata": {},
   "outputs": [
    {
     "data": {
      "text/plain": [
       "[2, 5, 5, 10]"
      ]
     },
     "execution_count": 105,
     "metadata": {},
     "output_type": "execute_result"
    }
   ],
   "source": [
    "# withReplacement : True -> 중복 추출\n",
    "num_union.sample(True, 0.3).collect()"
   ]
  },
  {
   "cell_type": "code",
   "execution_count": 107,
   "id": "41402f0a-06de-490d-b36f-79b23f51e8ac",
   "metadata": {},
   "outputs": [
    {
     "data": {
      "text/plain": [
       "[2, 3, 4, 5, 7, 8, 10]"
      ]
     },
     "execution_count": 107,
     "metadata": {},
     "output_type": "execute_result"
    }
   ],
   "source": [
    "# withReplacement : False -> 중복 X\n",
    "num_union.sample(False, 0.7).collect()"
   ]
  },
  {
   "cell_type": "code",
   "execution_count": 108,
   "id": "6866209c-cffe-4bde-ba58-e32efaa6ce8e",
   "metadata": {},
   "outputs": [
    {
     "data": {
      "text/plain": [
       "[4, 5, 5, 5, 7]"
      ]
     },
     "execution_count": 108,
     "metadata": {},
     "output_type": "execute_result"
    }
   ],
   "source": [
    "# 랜덤을 고정해서 항상 같은 결과가 나올 수 있도록\n",
    "num_union.sample(True, 0.5, seed=42).collect()"
   ]
  },
  {
   "cell_type": "markdown",
   "id": "a1e2ad93-55b2-424c-9253-ab1859fc1f6b",
   "metadata": {},
   "source": [
    "## Wide Transformations"
   ]
  },
  {
   "cell_type": "code",
   "execution_count": 109,
   "id": "730ff965-ae6a-402d-9970-a8feab5c7301",
   "metadata": {},
   "outputs": [
    {
     "data": {
      "text/plain": [
       "ParallelCollectionRDD[146] at readRDDFromFile at PythonRDD.scala:289"
      ]
     },
     "execution_count": 109,
     "metadata": {},
     "output_type": "execute_result"
    }
   ],
   "source": [
    "foods = sc.parallelize([\n",
    "    \"짜장면\", \"마라탕\", \"짬뽕\", \"떡볶이\", \"쌀국수\", \"짬뽕\", \"짜장면\", \"짜장면\", \"짜장면\", \"라면\", \"우동\", \"라면\"\n",
    "])\n",
    "foods"
   ]
  },
  {
   "cell_type": "code",
   "execution_count": 117,
   "id": "9255160a-e173-444a-bf9b-0136512eb089",
   "metadata": {},
   "outputs": [
    {
     "data": {
      "text/plain": [
       "PythonRDD[175] at RDD at PythonRDD.scala:53"
      ]
     },
     "execution_count": 117,
     "metadata": {},
     "output_type": "execute_result"
    }
   ],
   "source": [
    "# 그룹핑의 기준을 문자열의 첫 번째 글자로 설정\n",
    "foodsGroup = foods.groupBy(lambda x : x[0])\n",
    "foodsGroup"
   ]
  },
  {
   "cell_type": "code",
   "execution_count": 118,
   "id": "9f9bed43-fae7-4dd6-8d9d-527fc1455679",
   "metadata": {},
   "outputs": [
    {
     "data": {
      "text/plain": [
       "[('짜', <pyspark.resultiterable.ResultIterable at 0x7f1f3c1f58d0>),\n",
       " ('짬', <pyspark.resultiterable.ResultIterable at 0x7f1f3c1f5910>),\n",
       " ('쌀', <pyspark.resultiterable.ResultIterable at 0x7f1f3c1f5990>),\n",
       " ('라', <pyspark.resultiterable.ResultIterable at 0x7f1f3c5f5a90>),\n",
       " ('우', <pyspark.resultiterable.ResultIterable at 0x7f1f3c1f5ad0>),\n",
       " ('마', <pyspark.resultiterable.ResultIterable at 0x7f1f3c1f5b10>),\n",
       " ('떡', <pyspark.resultiterable.ResultIterable at 0x7f1f3c1f5bd0>)]"
      ]
     },
     "execution_count": 118,
     "metadata": {},
     "output_type": "execute_result"
    }
   ],
   "source": [
    "foodsGroup.collect()"
   ]
  },
  {
   "cell_type": "code",
   "execution_count": 120,
   "id": "cf8d74a3-193d-4a9a-92aa-57da83215e6f",
   "metadata": {},
   "outputs": [
    {
     "name": "stdout",
     "output_type": "stream",
     "text": [
      "짜 ['짜장면', '짜장면', '짜장면', '짜장면']\n",
      "짬 ['짬뽕', '짬뽕']\n",
      "쌀 ['쌀국수']\n",
      "라 ['라면', '라면']\n",
      "우 ['우동']\n",
      "마 ['마라탕']\n",
      "떡 ['떡볶이']\n"
     ]
    }
   ],
   "source": [
    "for (k, v) in foodsGroup.collect():\n",
    "    print(k, list(v))"
   ]
  },
  {
   "cell_type": "markdown",
   "id": "3fc001c3-286b-40d9-99bb-87574a3b91ba",
   "metadata": {},
   "source": [
    "## 내로우 narrow  트랜스포메이션"
   ]
  },
  {
   "cell_type": "code",
   "execution_count": 127,
   "id": "17b2b372-46b6-444a-a7a7-a545fd187db8",
   "metadata": {},
   "outputs": [
    {
     "data": {
      "text/plain": [
       "[1, 2, 3]"
      ]
     },
     "execution_count": 127,
     "metadata": {},
     "output_type": "execute_result"
    }
   ],
   "source": [
    "numbers = sc.parallelize([1, 2, 3, 4, 5])\n",
    "\n",
    "# 1:1 변환 (Narrow Transformation)\n",
    "sample_rdd = numbers.sample(False, 0.5)\n",
    "sample_rdd.take(3)"
   ]
  },
  {
   "cell_type": "code",
   "execution_count": 126,
   "id": "2cb16b0b-6591-4a37-ae02-f3eed3cc855d",
   "metadata": {},
   "outputs": [
    {
     "data": {
      "text/plain": [
       "[1, 2, 3, 4, 5]"
      ]
     },
     "execution_count": 126,
     "metadata": {},
     "output_type": "execute_result"
    }
   ],
   "source": []
  },
  {
   "cell_type": "markdown",
   "id": "d4c209f9-8daf-4ea0-aea1-4754ea661a35",
   "metadata": {},
   "source": [
    "## 5. aggregate 함수 사용 예제"
   ]
  },
  {
   "cell_type": "code",
   "execution_count": 129,
   "id": "c3a9f743-c8ea-4237-b3f3-32410d8531d2",
   "metadata": {},
   "outputs": [
    {
     "data": {
      "text/plain": [
       "[1, 5, 3, 9, 2, 8, 4, 7, 6]"
      ]
     },
     "execution_count": 129,
     "metadata": {},
     "output_type": "execute_result"
    }
   ],
   "source": [
    "from pyspark import SparkContext\n",
    "\n",
    "sc = SparkContext.getOrCreate()\n",
    "numbers = sc.parallelize([1, 5, 3, 9, 2, 8, 4, 7, 6], numSlices=3)\n",
    "numbers.collect()"
   ]
  },
  {
   "cell_type": "markdown",
   "id": "62b4734a-943e-49fe-8978-106184190bb6",
   "metadata": {},
   "source": [
    "glom()은 각 파티션의 내용을 리스트로 감싸서 반환   \n",
    "즉, 파티션 간의 이동이 없고, 내부 자료구조만 바꾸는 연산   \n",
    "glom()은 RDD의 각 파티션을 배열 형태로 변환하는 narrow transformation"
   ]
  },
  {
   "cell_type": "code",
   "execution_count": 131,
   "id": "a7854b9b-9a22-4357-aa4d-7a286aa5d462",
   "metadata": {},
   "outputs": [
    {
     "data": {
      "text/plain": [
       "[[1, 5, 3], [9, 2, 8], [4, 7, 6]]"
      ]
     },
     "execution_count": 131,
     "metadata": {},
     "output_type": "execute_result"
    }
   ],
   "source": [
    "numbers.glom().collect()"
   ]
  },
  {
   "cell_type": "code",
   "execution_count": null,
   "id": "38e50355-0b88-432e-940c-4a0c9c6e7e78",
   "metadata": {},
   "outputs": [],
   "source": []
  },
  {
   "cell_type": "code",
   "execution_count": 132,
   "id": "a0d6f0ec-3eb8-40d7-8a43-1b0a02c37164",
   "metadata": {},
   "outputs": [],
   "source": [
    "numbers = sc.parallelize([1, 5, 3, 9, 2, 8, 4, 7, 6])"
   ]
  },
  {
   "cell_type": "code",
   "execution_count": 133,
   "id": "c7a573b0-1b6c-4282-96e8-a009da6b74ec",
   "metadata": {},
   "outputs": [
    {
     "data": {
      "text/plain": [
       "(45, 9)"
      ]
     },
     "execution_count": 133,
     "metadata": {},
     "output_type": "execute_result"
    }
   ],
   "source": [
    "# 평균 계산하기\n",
    "sum_count = numbers.aggregate(\n",
    "    (0, 0),  # 초기값 (합계, 개수)\n",
    "    lambda acc, value: (acc[0] + value, acc[1] + 1),  # 각 파티션 내 연산\n",
    "    lambda acc1, acc2: (acc1[0] + acc2[0], acc1[1] + acc2[1])  # 파티션 간 연산\n",
    ")\n",
    "sum_count"
   ]
  },
  {
   "cell_type": "code",
   "execution_count": 134,
   "id": "a7af8964-f3c8-4c0d-8b40-79643631977f",
   "metadata": {},
   "outputs": [
    {
     "name": "stdout",
     "output_type": "stream",
     "text": [
      "Average: 5.0\n"
     ]
    }
   ],
   "source": [
    "average = sum_count[0] / sum_count[1]\n",
    "print(\"Average:\", average)  # 5.0"
   ]
  },
  {
   "cell_type": "code",
   "execution_count": null,
   "id": "b43b8c37-2fd2-4668-838c-7695799788d4",
   "metadata": {},
   "outputs": [],
   "source": []
  },
  {
   "cell_type": "code",
   "execution_count": 138,
   "id": "ea6fc6d0-115a-4a9f-81c7-1a3b8a6a3826",
   "metadata": {},
   "outputs": [],
   "source": [
    "# aggregate 연습\n",
    "data = [\"hello\", \"world\", \"spark\"]\n",
    "rdd = sc.parallelize(data)\n",
    "\n",
    "def seq_op(acc, value):\n",
    "    text, idx = acc\n",
    "    return (f\"{text} {idx}:{value}\".strip(), idx + 1)\n",
    "\n",
    "def comb_op(acc1, acc2):\n",
    "    # 줄 번호 이어붙이기: 앞쪽 text 유지 + 뒤쪽 text 뒤에 붙이기\n",
    "    text1, idx1 = acc1\n",
    "    text2, idx2 = acc2\n",
    "    # 줄 번호 충돌 피하려면 idx 조정 필요 (복잡하므로 단순히 붙임)\n",
    "    return (f\"{text1} {text2}\".strip(), idx1 + idx2)"
   ]
  },
  {
   "cell_type": "code",
   "execution_count": 139,
   "id": "2cea85e4-43d5-4b6e-aa3d-7d7b047ff2fd",
   "metadata": {},
   "outputs": [
    {
     "name": "stdout",
     "output_type": "stream",
     "text": [
      "1:hello 1:world 2:spark\n"
     ]
    }
   ],
   "source": [
    "zero = (\"\", 1)\n",
    "\n",
    "result = rdd.aggregate(zero, seq_op, comb_op)[0]\n",
    "print(result)"
   ]
  },
  {
   "cell_type": "code",
   "execution_count": 140,
   "id": "41405a4b-9701-44d5-953b-2627f6ebb25b",
   "metadata": {},
   "outputs": [
    {
     "name": "stdout",
     "output_type": "stream",
     "text": [
      "1:spark 2:hadoop 1:ai 2:python 3:sql\n"
     ]
    }
   ],
   "source": [
    "rdd = sc.parallelize([\"spark\", \"hadoop\", \"ai\", \"python\", \"sql\"])\n",
    "result = rdd.aggregate(zero, seq_op, comb_op)[0]\n",
    "print(result)"
   ]
  },
  {
   "cell_type": "code",
   "execution_count": 141,
   "id": "3938692b-630e-45ee-9b65-7ad0aaaa9dcc",
   "metadata": {},
   "outputs": [],
   "source": [
    "sc.stop()\n",
    "spark.stop()"
   ]
  },
  {
   "cell_type": "code",
   "execution_count": null,
   "id": "772c7352-faf5-46ae-a51d-33794301fbd9",
   "metadata": {},
   "outputs": [],
   "source": []
  }
 ],
 "metadata": {
  "kernelspec": {
   "display_name": "Python 3 (ipykernel)",
   "language": "python",
   "name": "python3"
  },
  "language_info": {
   "codemirror_mode": {
    "name": "ipython",
    "version": 3
   },
   "file_extension": ".py",
   "mimetype": "text/x-python",
   "name": "python",
   "nbconvert_exporter": "python",
   "pygments_lexer": "ipython3",
   "version": "3.11.6"
  }
 },
 "nbformat": 4,
 "nbformat_minor": 5
}
