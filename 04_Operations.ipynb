{
 "cells": [
  {
   "cell_type": "markdown",
   "id": "64c51e70-c068-42a9-9dce-1355f9055be0",
   "metadata": {},
   "source": [
    "# Reduce\n",
    "\r\n",
    "RDD.reduce() 사용자가 지정하는 함수를 받아 여러 개의 값을 하나로 줄여줍니다."
   ]
  },
  {
   "cell_type": "code",
   "execution_count": 3,
   "id": "09a65c64-9232-4a70-90d8-4163d83f10f8",
   "metadata": {},
   "outputs": [],
   "source": [
    "from pyspark import SparkConf, SparkContext\n",
    "from pyspark.sql import SparkSession\n",
    "from operator import add\n",
    "\n",
    "\n",
    "# 현재 실행 중인 SparkSession 가져오기\n",
    "spark = SparkSession.builder.getOrCreate()\n",
    "sc = spark.sparkContext"
   ]
  },
  {
   "cell_type": "code",
   "execution_count": 10,
   "id": "66fecc06-f5d1-435d-953e-17377e5a7669",
   "metadata": {},
   "outputs": [
    {
     "data": {
      "text/plain": [
       "ParallelCollectionRDD[8] at readRDDFromFile at PythonRDD.scala:289"
      ]
     },
     "execution_count": 10,
     "metadata": {},
     "output_type": "execute_result"
    }
   ],
   "source": [
    "sample_rdd = sc.parallelize([1, 2, 3, 4, 5])\n",
    "sample_rdd"
   ]
  },
  {
   "cell_type": "code",
   "execution_count": 11,
   "id": "5de7e3b8-03cc-4a8e-b729-d8a1bec301ee",
   "metadata": {},
   "outputs": [
    {
     "data": {
      "text/plain": [
       "15"
      ]
     },
     "execution_count": 11,
     "metadata": {},
     "output_type": "execute_result"
    }
   ],
   "source": [
    "#RDD에 있는 숫자의 합계를 계산:\n",
    "sample_rdd.reduce(add)"
   ]
  },
  {
   "cell_type": "markdown",
   "id": "e47550ff-72f5-497a-9edf-2165192e283b",
   "metadata": {},
   "source": [
    "[1,2] |[3] |[4]   \n",
    "1> 4   \n",
    "2> 3 > 4 * 2 + 3 = 11   \n",
    "3> 4 > 11 * 2 + 4 = 26"
   ]
  },
  {
   "cell_type": "code",
   "execution_count": 15,
   "id": "20f1334f-67ec-4b82-9959-f52a3f7873a1",
   "metadata": {},
   "outputs": [
    {
     "data": {
      "text/plain": [
       "18"
      ]
     },
     "execution_count": 15,
     "metadata": {},
     "output_type": "execute_result"
    }
   ],
   "source": [
    "sample_rdd = sc.parallelize([1, 2, 3, 4])\n",
    "sample_rdd.reduce(lambda x, y : (x * 2)+ y)"
   ]
  },
  {
   "cell_type": "markdown",
   "id": "cdf850ab-f7c6-4cb7-85bc-4a226cd29cf8",
   "metadata": {},
   "source": [
    "[1,2] | [3,4]   \n",
    "\n",
    "1>  1 * 2 +2 =    \n",
    "\r\n",
    "2>   3 * 2+4 =    \n",
    "0 \r",
    " \n",
    "1+2>  4,10 - >   4 *2+10 = 18"
   ]
  },
  {
   "cell_type": "code",
   "execution_count": 16,
   "id": "004dc1ab-9ad8-46a8-9a63-16c3282c19b2",
   "metadata": {},
   "outputs": [
    {
     "data": {
      "text/plain": [
       "18"
      ]
     },
     "execution_count": 16,
     "metadata": {},
     "output_type": "execute_result"
    }
   ],
   "source": [
    "sc.parallelize([1, 2, 3, 4], 2).reduce(lambda x, y : (x * 2) + y)"
   ]
  },
  {
   "cell_type": "markdown",
   "id": "48640647-d14e-44ce-a9be-c2884045f751",
   "metadata": {},
   "source": [
    "x=1,y=2 -> 1 * 2 + 2 = 4   \n",
    "x=4, y=3 -> 4 * 2 + 3 = 11   \n",
    "x=11, y=4 -> 11 * 2 + 4 = 26"
   ]
  },
  {
   "cell_type": "code",
   "execution_count": 17,
   "id": "aca88868-a350-433b-a0c8-978299800f36",
   "metadata": {},
   "outputs": [
    {
     "data": {
      "text/plain": [
       "18"
      ]
     },
     "execution_count": 17,
     "metadata": {},
     "output_type": "execute_result"
    }
   ],
   "source": [
    "sc.parallelize([1, 2, 3, 4], 3).reduce(lambda x, y : (x * 2) + y)"
   ]
  },
  {
   "cell_type": "markdown",
   "id": "fc54575c-faf2-4340-b77b-2035d7dcdca6",
   "metadata": {},
   "source": [
    "# Fold"
   ]
  },
  {
   "cell_type": "markdown",
   "id": "901864e5-d4ce-4ba4-82ee-fc1cdbee14f4",
   "metadata": {},
   "source": [
    "RDD.fold(zeroValue, ) reduce와 비슷하지만, zeroValue에 넣어놓고 싶은 시작값을 지정해서 reduce가 가능 zeroValue는 파티션 마다 계산이 일어날 때 하나씩 더해지는 값 fold()를 사용하여 합계를 구하되, 초기값을 지정"
   ]
  },
  {
   "cell_type": "code",
   "execution_count": 20,
   "id": "a02e4797-1015-43eb-bbf7-6a258c1ab7e6",
   "metadata": {},
   "outputs": [
    {
     "name": "stdout",
     "output_type": "stream",
     "text": [
      "24\n",
      "24\n"
     ]
    }
   ],
   "source": [
    "rdd = sc.parallelize([2, 3, 4], 4)\n",
    "\n",
    "#숫자의 곱을 계산해서 합한다\n",
    "print(rdd.reduce(lambda x, y : (x * y))) # 2 x 3 -> x 4\n",
    "print(rdd.fold(1, lambda x , y : (x * y))) # 1 x 2 x 3 x 4"
   ]
  },
  {
   "cell_type": "code",
   "execution_count": 21,
   "id": "9f7d64c0-bbad-497a-be44-47e4458ad3d9",
   "metadata": {},
   "outputs": [
    {
     "data": {
      "text/plain": [
       "768"
      ]
     },
     "execution_count": 21,
     "metadata": {},
     "output_type": "execute_result"
    }
   ],
   "source": [
    "rdd.fold(2, lambda x , y : (x * y)) \n",
    "# 초기값 2 지정 :: 2x2 , 2x3, 2x4, \"\" > 4 , 6, 8, \"\" \n",
    "# 다시 초기값 2 지정 :: 4x2*6, 48x2*8, \"\" > 768"
   ]
  },
  {
   "cell_type": "code",
   "execution_count": 22,
   "id": "67406769-7037-4513-9de5-50a1c4cb0f2c",
   "metadata": {},
   "outputs": [
    {
     "name": "stdout",
     "output_type": "stream",
     "text": [
      "9\n",
      "14\n"
     ]
    }
   ],
   "source": [
    "print(rdd.reduce(lambda x, y : x + y)) \n",
    "print(rdd.fold(1, lambda x, y : x + y)) "
   ]
  },
  {
   "cell_type": "code",
   "execution_count": 23,
   "id": "ebbed35c-154d-400f-b34b-635590d603cb",
   "metadata": {},
   "outputs": [
    {
     "name": "stdout",
     "output_type": "stream",
     "text": [
      "Total sum: 500000500000\n"
     ]
    }
   ],
   "source": [
    "# 대규모 숫자 데이터셋 생성\n",
    "numbers_rdd = sc.parallelize(range(1, 1000001))\n",
    "\n",
    "# fold를 사용하여 총합계 계산\n",
    "total_sum = numbers_rdd.fold(0, lambda x, y: x + y)\n",
    "\n",
    "print(f\"Total sum: {total_sum}\")"
   ]
  },
  {
   "cell_type": "code",
   "execution_count": 24,
   "id": "24d876cd-0928-4c1b-9f4b-28dc5c0d31b0",
   "metadata": {},
   "outputs": [
    {
     "name": "stdout",
     "output_type": "stream",
     "text": [
      "Maximum salary: 80000\n"
     ]
    }
   ],
   "source": [
    "# 직원 급여 데이터\n",
    "salaries_rdd = sc.parallelize([50000, 60000, 55000, 75000, 65000, 80000])\n",
    "\n",
    "# fold를 사용하여 최대 급여 찾기\n",
    "max_salary = salaries_rdd.fold(0, lambda x, y: max(x, y))\n",
    "\n",
    "print(f\"Maximum salary: {max_salary}\")"
   ]
  },
  {
   "cell_type": "code",
   "execution_count": 25,
   "id": "d1f5e2c3-52a3-419e-994c-dac76d7ea456",
   "metadata": {},
   "outputs": [
    {
     "name": "stdout",
     "output_type": "stream",
     "text": [
      "Maximum salary by department:\n",
      "IT: 65000\n",
      "HR: 50000\n",
      "Finance: 55000\n"
     ]
    }
   ],
   "source": [
    "# 부서별 직원 급여 데이터\n",
    "dept_salaries = [(\"IT\", 50000), (\"HR\", 45000), (\"IT\", 60000), \n",
    "                 (\"Finance\", 55000), (\"HR\", 50000), (\"IT\", 65000)]\n",
    "dept_rdd = sc.parallelize(dept_salaries)\n",
    "\n",
    "# foldByKey를 사용하여 부서별 최대 급여 찾기\n",
    "max_salary_by_dept = dept_rdd.foldByKey(0, lambda x, y: max(x, y))\n",
    "\n",
    "print(\"Maximum salary by department:\")\n",
    "for dept, max_salary in max_salary_by_dept.collect():\n",
    "    print(f\"{dept}: {max_salary}\")"
   ]
  },
  {
   "cell_type": "markdown",
   "id": "4565de42-8614-46b7-9de9-bf5230fd5cfc",
   "metadata": {},
   "source": [
    "# GroupBy\n",
    "RDD.groupBy(<func>)   \n",
    "그룹핑 함수를 받아 reduction   \n",
    "groupBy() 메서드는 주어진 함수를 기준으로 RDD의 요소들을 그룹화합니다."
   ]
  },
  {
   "cell_type": "code",
   "execution_count": 27,
   "id": "8c56106c-ea67-4741-b6be-04c6b8c70a6a",
   "metadata": {},
   "outputs": [
    {
     "data": {
      "text/plain": [
       "[(0, [2, 8]), (1, [1, 1, 3, 5])]"
      ]
     },
     "execution_count": 27,
     "metadata": {},
     "output_type": "execute_result"
    }
   ],
   "source": [
    "rdd = sc.parallelize([1, 1, 2, 3, 5, 8])\n",
    "result = rdd.groupBy(lambda x : x % 2).collect()\n",
    "\n",
    "sorted([(x, sorted(y)) for (x, y) in result])"
   ]
  },
  {
   "cell_type": "code",
   "execution_count": 28,
   "id": "3ffc599d-f6f3-457f-bbd3-daae6cf38c0e",
   "metadata": {},
   "outputs": [
    {
     "data": {
      "text/plain": [
       "[(0, [2, 8]), (1, [1, 1, 3, 5])]"
      ]
     },
     "execution_count": 28,
     "metadata": {},
     "output_type": "execute_result"
    }
   ],
   "source": [
    "[(x, sorted(y)) for (x, y) in result]"
   ]
  },
  {
   "cell_type": "markdown",
   "id": "5e2d24e9-5173-409a-92dc-320f1316f02b",
   "metadata": {},
   "source": [
    "## 판매 데이터 분석 (카테고리별 총 매출 계산)"
   ]
  },
  {
   "cell_type": "code",
   "execution_count": 30,
   "id": "68dcc04a-cfd8-45de-a12c-727219019552",
   "metadata": {},
   "outputs": [],
   "source": [
    "sales_data = [\n",
    "    (\"Electronics\", 1000),\n",
    "    (\"Clothing\", 500),\n",
    "    (\"Electronics\", 1500),\n",
    "    (\"Books\", 300),\n",
    "    (\"Clothing\", 750),\n",
    "    (\"Books\", 200)\n",
    "]"
   ]
  },
  {
   "cell_type": "code",
   "execution_count": 31,
   "id": "fad700db-a1c6-4f26-81b4-5200f814e571",
   "metadata": {},
   "outputs": [
    {
     "name": "stdout",
     "output_type": "stream",
     "text": [
      "Clothing: $1250\n",
      "Electronics: $2500\n",
      "Books: $500\n"
     ]
    }
   ],
   "source": [
    "# RDD 생성\n",
    "sales_rdd = sc.parallelize(sales_data)\n",
    "\n",
    "# 카테고리별 총 매출 계산\n",
    "category_sales = sales_rdd.groupBy(lambda x: x[0]) \\\n",
    "    .mapValues(lambda values: sum(item[1] for item in values)) \\\n",
    "    .collect()\n",
    "\n",
    "# 결과 출력\n",
    "for category, total_sales in category_sales:\n",
    "    print(f\"{category}: ${total_sales}\")"
   ]
  },
  {
   "cell_type": "markdown",
   "id": "1787903b-0550-4e78-88f1-3815388768f4",
   "metadata": {},
   "source": [
    "## 로그 데이터 처리 (IP 주소별 접속 횟수 분석)\n",
    "### SparkContext 생성 가정 (sc)"
   ]
  },
  {
   "cell_type": "code",
   "execution_count": 33,
   "id": "a7328ece-ebed-4572-b0a9-1bd1d9401116",
   "metadata": {},
   "outputs": [],
   "source": [
    "log_data = [\n",
    "    (\"192.168.1.1\", \"login\"),\n",
    "    (\"192.168.1.2\", \"purchase\"),\n",
    "    (\"192.168.1.1\", \"view\"),\n",
    "    (\"192.168.1.3\", \"login\"),\n",
    "    (\"192.168.1.2\", \"login\"),\n",
    "    (\"192.168.1.1\", \"purchase\")\n",
    "]\n",
    "\n",
    "# RDD 생성\n",
    "log_rdd = sc.parallelize(log_data)"
   ]
  },
  {
   "cell_type": "code",
   "execution_count": 34,
   "id": "fbd15314-83c9-45ba-9d70-f3ebdd604b1c",
   "metadata": {},
   "outputs": [
    {
     "data": {
      "text/plain": [
       "[('192.168.1.1', 3), ('192.168.1.2', 2), ('192.168.1.3', 1)]"
      ]
     },
     "execution_count": 34,
     "metadata": {},
     "output_type": "execute_result"
    }
   ],
   "source": [
    "# IP 주소별 액션 횟수 계산\n",
    "ip_action_count = log_rdd.groupBy(lambda x: x[0]) \\\n",
    "    .mapValues(lambda values: len(list(values))) \\\n",
    "    .collect()\n",
    "ip_action_count"
   ]
  },
  {
   "cell_type": "markdown",
   "id": "882d74d0-aac3-4bbb-aa3b-b4207d66c979",
   "metadata": {},
   "source": [
    "## 학생 성적 데이터 분석 (과목별 평균 성적 계산)\n",
    "### SparkContext 생성 가정 (sc)"
   ]
  },
  {
   "cell_type": "code",
   "execution_count": 35,
   "id": "76eda5bf-ff35-4226-9be6-8319553ab9f7",
   "metadata": {},
   "outputs": [],
   "source": [
    "student_grades = [\n",
    "    (\"Math\", 85),\n",
    "    (\"English\", 90),\n",
    "    (\"Math\", 92),\n",
    "    (\"Science\", 88),\n",
    "    (\"English\", 95),\n",
    "    (\"Science\", 82)\n",
    "]\n",
    "\n",
    "# RDD 생성\n",
    "grades_rdd = sc.parallelize(student_grades)"
   ]
  },
  {
   "cell_type": "code",
   "execution_count": 36,
   "id": "ee65cdd6-1359-495a-a53f-710978c4c00d",
   "metadata": {},
   "outputs": [
    {
     "name": "stdout",
     "output_type": "stream",
     "text": [
      "Science: 85.00\n",
      "Math: 88.50\n",
      "English: 92.50\n"
     ]
    }
   ],
   "source": [
    "# 과목별 평균 성적 계산\n",
    "subject_avg_grades = grades_rdd.groupBy(lambda x: x[0]) \\\n",
    "    .mapValues(lambda values: sum(item[1] for item in values) / len(list(values))) \\\n",
    "    .collect()\n",
    "\n",
    "# 결과 출력\n",
    "for subject, avg_grade in subject_avg_grades:\n",
    "    print(f\"{subject}: {avg_grade:.2f}\")"
   ]
  },
  {
   "cell_type": "markdown",
   "id": "d489e013-9116-4cba-840d-545dd4576667",
   "metadata": {},
   "source": [
    "# 5. aggregate 함수 사용 예제"
   ]
  },
  {
   "cell_type": "code",
   "execution_count": 37,
   "id": "735553b5-e40d-4346-ad2e-2070e2227f02",
   "metadata": {},
   "outputs": [
    {
     "data": {
      "text/plain": [
       "[1, 5, 3, 9, 2, 8, 4, 7, 6]"
      ]
     },
     "execution_count": 37,
     "metadata": {},
     "output_type": "execute_result"
    }
   ],
   "source": [
    "from pyspark import SparkContext\n",
    "\n",
    "sc = SparkContext.getOrCreate()\n",
    "numbers = sc.parallelize([1, 5, 3, 9, 2, 8, 4, 7, 6], numSlices=3)\n",
    "numbers.collect()"
   ]
  },
  {
   "cell_type": "markdown",
   "id": "98055a23-ce21-4003-8557-dd84e129ab35",
   "metadata": {},
   "source": [
    "glom()은 각 파티션의 내용을 리스트로 감싸서 반환   \n",
    "즉, 파티션 간의 이동이 없고, 내부 자료구조만 바꾸는 연산   \n",
    "glom() 은 각 파티션을 배열 형태로 변환하는 는 narrow transformation"
   ]
  },
  {
   "cell_type": "code",
   "execution_count": 38,
   "id": "1a1786eb-076f-4e20-9caf-947ee264b0b6",
   "metadata": {},
   "outputs": [
    {
     "data": {
      "text/plain": [
       "[[1, 5, 3], [9, 2, 8], [4, 7, 6]]"
      ]
     },
     "execution_count": 38,
     "metadata": {},
     "output_type": "execute_result"
    }
   ],
   "source": [
    "numbers.glom().collect()"
   ]
  },
  {
   "cell_type": "code",
   "execution_count": 39,
   "id": "8a344973-706b-411a-9bcb-e57fca6b32b9",
   "metadata": {},
   "outputs": [],
   "source": [
    "numbers = sc.parallelize([1, 5, 3, 9, 2, 8, 4, 6])"
   ]
  },
  {
   "cell_type": "code",
   "execution_count": 40,
   "id": "d65639db-e3b6-4b21-af1c-66d9705f45bd",
   "metadata": {},
   "outputs": [
    {
     "data": {
      "text/plain": [
       "(38, 8)"
      ]
     },
     "execution_count": 40,
     "metadata": {},
     "output_type": "execute_result"
    }
   ],
   "source": [
    "# 평균 계산하기\n",
    "sum_count = numbers.aggregate(\n",
    "    (0, 0),  # 초기값 (합계, 개수)\n",
    "    lambda acc, value: (acc[0] + value, acc[1] + 1),  # 각 파티션 내 연산\n",
    "    lambda acc1, acc2: (acc1[0] + acc2[0], acc1[1] + acc2[1])  # 파티션 간 연산\n",
    ")\n",
    "sum_count"
   ]
  },
  {
   "cell_type": "code",
   "execution_count": 41,
   "id": "4dd0a422-4dd0-4435-a28c-f173d7d2f477",
   "metadata": {},
   "outputs": [
    {
     "name": "stdout",
     "output_type": "stream",
     "text": [
      "Average: 4.75\n"
     ]
    }
   ],
   "source": [
    "average = sum_count[0] / sum_count[1]\n",
    "print(\"Average:\", average)  # 5.0"
   ]
  },
  {
   "cell_type": "code",
   "execution_count": 50,
   "id": "18c2963a-7164-4a58-98b7-e895b888e225",
   "metadata": {},
   "outputs": [],
   "source": [
    "# agg 연습\n",
    "data = [\"hello\", \"world\", \"spark\"]\n",
    "rdd = sc.parallelize(data)\n",
    "\n",
    "def seq_op(acc, value):\n",
    "    text, idx = acc\n",
    "    return (f\"{text} {idx}: {value}\".strip(), idx + 1)\n",
    "\n",
    "def comb_op(acc1, acc2):\n",
    "    # 줄 번호 이어붙이기: 앞쪽 text 유지 + 뒤쪽 text 뒤에 붙이기\n",
    "    text1, idx1 = acc1\n",
    "    text2, idx2 = acc2\n",
    "    # 줄 번호 충돌 피하려면 idx 조정 필요 (복잡하므로 단순히 붙임)\n",
    "    return (f\"{text1} {text2}\".strip(), idx1 + idx2)"
   ]
  },
  {
   "cell_type": "code",
   "execution_count": 51,
   "id": "3a79c641-6c8c-47a6-a6cf-5b8133c16791",
   "metadata": {},
   "outputs": [
    {
     "name": "stdout",
     "output_type": "stream",
     "text": [
      "1: hello 1: world 2: spark\n"
     ]
    }
   ],
   "source": [
    "zero = (\"\", 1)\n",
    "\n",
    "result = rdd.aggregate(zero, seq_op, comb_op)[0]\n",
    "print(result)"
   ]
  },
  {
   "cell_type": "code",
   "execution_count": 52,
   "id": "fa9d37bd-51f8-46ff-9862-b881adf3f5ab",
   "metadata": {},
   "outputs": [
    {
     "name": "stdout",
     "output_type": "stream",
     "text": [
      "1: spark 2: hadoop 1: ai 2: python 3: sql\n"
     ]
    }
   ],
   "source": [
    "rdd = sc.parallelize([\"spark\", \"hadoop\", \"ai\", \"python\", \"sql\"])\n",
    "result = rdd.aggregate(zero, seq_op, comb_op)[0]\n",
    "print(result)"
   ]
  },
  {
   "cell_type": "code",
   "execution_count": 53,
   "id": "8e67e0ea-3e20-4f86-89f4-1d89e1bc6596",
   "metadata": {},
   "outputs": [
    {
     "name": "stdout",
     "output_type": "stream",
     "text": [
      "길이 5 이상인 문자열 개수: 3\n"
     ]
    }
   ],
   "source": [
    "# 길이가 5 이상인 문자열 개수 세기\n",
    "rdd = sc.parallelize([\"spark\", \"hadoop\", \"ai\", \"python\", \"sql\"])\n",
    "\n",
    "result = rdd.aggregate(\n",
    "    0,\n",
    "    lambda acc, value: acc + (1 if len(value) >= 5 else 0),\n",
    "    lambda acc1, acc2: acc1 + acc2\n",
    ")\n",
    "\n",
    "print(\"길이 5 이상인 문자열 개수:\", result)"
   ]
  },
  {
   "cell_type": "code",
   "execution_count": 54,
   "id": "8c22ddab-d130-4ca5-9eb0-2b01ddd4558a",
   "metadata": {},
   "outputs": [],
   "source": [
    "spark.stop()\n",
    "sc.stop()"
   ]
  },
  {
   "cell_type": "code",
   "execution_count": null,
   "id": "9b84fc79-d7df-4f1c-ac75-bb13913659df",
   "metadata": {},
   "outputs": [],
   "source": []
  }
 ],
 "metadata": {
  "kernelspec": {
   "display_name": "Python 3 (ipykernel)",
   "language": "python",
   "name": "python3"
  },
  "language_info": {
   "codemirror_mode": {
    "name": "ipython",
    "version": 3
   },
   "file_extension": ".py",
   "mimetype": "text/x-python",
   "name": "python",
   "nbconvert_exporter": "python",
   "pygments_lexer": "ipython3",
   "version": "3.11.6"
  }
 },
 "nbformat": 4,
 "nbformat_minor": 5
}
